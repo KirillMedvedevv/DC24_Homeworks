{
 "cells": [
  {
   "cell_type": "markdown",
   "id": "e4d450c2",
   "metadata": {
    "pycharm": {
     "name": "#%% md\n"
    }
   },
   "source": [
    "# Словарь"
   ]
  },
  {
   "cell_type": "markdown",
   "id": "ca42b161",
   "metadata": {
    "ExecuteTime": {
     "end_time": "2024-11-12T17:23:33.620558Z",
     "start_time": "2024-11-12T17:23:33.612887Z"
    },
    "pycharm": {
     "name": "#%% md\n"
    }
   },
   "source": [
    "## Порядок сдачи домашнего"
   ]
  },
  {
   "cell_type": "markdown",
   "id": "1ff1df47",
   "metadata": {
    "pycharm": {
     "name": "#%% md\n"
    }
   },
   "source": [
    "Вам требуется создать гит репозиторий куда вы будете складывать все ваши домашние. Под каждое домашнее вы создаете отдельную ветку куда вносите все изменения в рамках домашнего. Как только домашнее готово - создаете пулл реквест (обратите внимание что в пулл реквесте должны быть отражены все изменения в рамках домашнего) или присылаете код в СДО. Ревьювером назначаете http://github.com/michael15346/ и https://github.com/shgpavel . Перед сдачей проверьте код, напишите тесты. Не забудьте про PEP8, например, с помощью flake8. Задание нужно делать в jupyter notebook.\n",
    "\n",
    "**Дедлайн - 25 ноября 10:00**"
   ]
  },
  {
   "cell_type": "markdown",
   "id": "f9fd13a2",
   "metadata": {
    "pycharm": {
     "name": "#%% md\n"
    }
   },
   "source": [
    "Во время лекции мы с вами познакомились с различными реализациями множества и массива. Задача домашнего задания реализовать собственное множество. Операции добавления и удаления должны работать аммортизированное $O(1)$.\n",
    "\n",
    "Пример использования:\n",
    "```python\n",
    "d = Dict()\n",
    "d[\"name\"] = \"Peter\"\n",
    "d[\"age\"] = 25\n",
    "d[\"city\"] = \"Saint-Petersburg\"\n",
    "\n",
    "print(d[\"name\"])\n",
    "Peter\n",
    "\n",
    "print(\"age\" in d)\n",
    "True\n",
    "\n",
    "del d[\"city\"]\n",
    "\n",
    "print(d.keys())\n",
    "['name', 'age']\n",
    "\n",
    "print(d.values())\n",
    "['Peter', 25]\n",
    "\n",
    "print(d.items())\n",
    "[('name', 'Peter'), ('age', 25)]\n",
    "\n",
    "print(d)\n",
    "{'name': 'Peter', 'age': 25}\n",
    "```"
   ]
  },
  {
   "cell_type": "code",
   "execution_count": 26,
   "id": "1f4b4200-ff25-4284-86cc-0c9c2167f068",
   "metadata": {
    "pycharm": {
     "name": "#%%\n"
    }
   },
   "outputs": [],
   "source": [
    "class Dict:\n",
    "    def __init__(self, size=100):\n",
    "        self.size = size\n",
    "        self.Values = [None for i in range(size)]\n",
    "        self.Keys = [None for i in range(size)]\n",
    "\n",
    "    def __setitem__(self, key, value):\n",
    "        \"\"\"Добавление или обновление значения по ключу.\"\"\"\n",
    "        h_key = hash(key) % self.size\n",
    "        if self.Keys[h_key] is not None and self.Keys[h_key] != key:\n",
    "            return \"Critical error. Same hash for different keys\"\n",
    "        self.Keys[h_key] = key\n",
    "        self.Values[h_key] = value\n",
    "\n",
    "    def __getitem__(self, key):\n",
    "        \"\"\"Получение значения по ключу.\"\"\"\n",
    "        return self.Values[hash(key) % self.size]\n",
    "\n",
    "\n",
    "    def __delitem__(self, key):\n",
    "        self.Values[hash(key) % self.size] = None\n",
    "        self.Keys[hash(key) % self.size] = None\n",
    "        return \"Deleted!!!\"\n",
    "        \n",
    "    def __contains__(self, key):\n",
    "        \"\"\"Проверка наличия ключа.\"\"\"\n",
    "        h_key = hash(key) % self.size\n",
    "        if self.Keys[h_key] is not None:\n",
    "            return True\n",
    "        return False\n",
    "\n",
    "    def keys(self):\n",
    "        keys = []\n",
    "        for i in self.Keys:\n",
    "            if i is not None:\n",
    "                keys.append(i)\n",
    "\n",
    "        return keys\n",
    "        \n",
    "    def values(self):\n",
    "        \"\"\"Получение всех значений.\"\"\"\n",
    "        values = []\n",
    "        for i in self.Values:\n",
    "            if i is not None:\n",
    "                values.append(i)\n",
    "        return values\n",
    "        \n",
    "    def items(self):\n",
    "        \"\"\"Получение всех пар (ключ, значение).\"\"\"\n",
    "        items = []\n",
    "        for i in self.Keys:\n",
    "            if i is not None:\n",
    "                items.append((i, self.Values[hash(i) % self.size]))\n",
    "        return items\n",
    "\n",
    "    def __repr__(self):\n",
    "        \"\"\"Представление таблицы.\"\"\"\n",
    "        output = ''\n",
    "        items = self.items()\n",
    "        for i in items:\n",
    "            output += \"'\" + str(i[0]) + \"'\" + \":\" + \" '\" + str(i[1]) + \"'\" + \",\" + \" \"\n",
    "\n",
    "        return \"{\" + output[:-2] + \"}\"\n"
   ]
  },
  {
   "cell_type": "code",
   "execution_count": 27,
   "outputs": [
    {
     "name": "stdout",
     "output_type": "stream",
     "text": [
      "Peter\n",
      "True\n",
      "['age', 'name']\n",
      "[25, 'Peter']\n",
      "[('age', 25), ('name', 'Peter')]\n",
      "{'age': '25', 'name': 'Peter'}\n"
     ]
    }
   ],
   "source": [
    "d = Dict()\n",
    "d[\"name\"] = \"Peter\"\n",
    "d[\"age\"] = 25\n",
    "d[\"city\"] = \"Saint-Petersburg\"\n",
    "\n",
    "print(d[\"name\"])\n",
    "#Peter\n",
    "\n",
    "print(\"age\" in d)\n",
    "#True\n",
    "\n",
    "del d[\"city\"]\n",
    "\n",
    "print(d.keys())\n",
    "#['name', 'age']\n",
    "\n",
    "print(d.values())\n",
    "#['Peter', 25]\n",
    "\n",
    "print(d.items())\n",
    "#[('name', 'Peter'), ('age', 25)]\n",
    "\n",
    "print(d)\n",
    "#{'name': 'Peter', 'age': 25}"
   ],
   "metadata": {
    "collapsed": false,
    "pycharm": {
     "name": "#%%\n"
    }
   }
  },
  {
   "cell_type": "code",
   "execution_count": null,
   "outputs": [],
   "source": [],
   "metadata": {
    "collapsed": false,
    "pycharm": {
     "name": "#%%\n",
     "is_executing": true
    }
   }
  },
  {
   "cell_type": "code",
   "execution_count": 21,
   "outputs": [],
   "source": [],
   "metadata": {
    "collapsed": false,
    "pycharm": {
     "name": "#%%\n"
    }
   }
  }
 ],
 "metadata": {
  "kernelspec": {
   "display_name": "Python 3 (ipykernel)",
   "language": "python",
   "name": "python3"
  },
  "language_info": {
   "codemirror_mode": {
    "name": "ipython",
    "version": 3
   },
   "file_extension": ".py",
   "mimetype": "text/x-python",
   "name": "python",
   "nbconvert_exporter": "python",
   "pygments_lexer": "ipython3",
   "version": "3.9.20"
  }
 },
 "nbformat": 4,
 "nbformat_minor": 5
}