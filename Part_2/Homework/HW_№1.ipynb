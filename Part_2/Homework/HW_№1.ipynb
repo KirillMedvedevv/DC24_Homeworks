{
 "cells": [
  {
   "cell_type": "markdown",
   "source": [
    "#### 1. Какие еще существуют коды типов?\n",
    "\n",
    "|    Code     |        Type        | Size, bytes |\n",
    "|:-----------:|:------------------:|:-----------:|\n",
    "|      i      |     signed int     |      2      |\n",
    "|  I (big i)  |    unsigned int    |      2      |\n",
    "| l (small l) |    signed long     |      4      |\n",
    "|  L (big l)  |   unsigned long    |      4      |\n",
    "|      q      |  signed long long  |      8      |\n",
    "|      Q      | unsigned long long |      8      |\n",
    "|      f      |       float        |      4      |\n",
    "|      d      |       double       |      8      |\n",
    "|      b      |    signed char     |      1      |\n",
    "|      B      |   unsigned char    |      1      |\n",
    "|      h      |    signed short    |      2      |\n",
    "|      H      |   unsigned short   |      2      |"
   ],
   "metadata": {
    "collapsed": false,
    "pycharm": {
     "name": "#%% md\n"
    }
   }
  },
  {
   "cell_type": "markdown",
   "source": [
    "#### 2. Напишите код, подобный приведенному выше, но с другим типом"
   ],
   "metadata": {
    "collapsed": false,
    "pycharm": {
     "name": "#%% md\n"
    }
   },
   "execution_count": 1
  },
  {
   "cell_type": "code",
   "execution_count": 104,
   "outputs": [
    {
     "name": "stdout",
     "output_type": "stream",
     "text": [
      "<class 'array.array'>\n",
      "120\n"
     ]
    }
   ],
   "source": [
    "import numpy as np\n",
    "from sys import getsizeof\n",
    "from array import array\n",
    "\n",
    "x = array(\"d\", [1.02, 1032421.414124, 1.42424324, 0.0424242, 1.424242124124124])\n",
    "print(type(x))\n",
    "print(getsizeof(x))"
   ],
   "metadata": {
    "collapsed": false,
    "pycharm": {
     "name": "#%%\n"
    }
   }
  },
  {
   "cell_type": "markdown",
   "source": [
    "#### 3. Напишите код для создания массива с 5 значениями, располагающимися через равные интервалы в диапазоне от 0 до 1"
   ],
   "metadata": {
    "collapsed": false,
    "pycharm": {
     "name": "#%% md\n"
    }
   }
  },
  {
   "cell_type": "code",
   "execution_count": 21,
   "outputs": [
    {
     "name": "stdout",
     "output_type": "stream",
     "text": [
      "[0.   0.25 0.5  0.75 1.  ]\n",
      "[0.   0.25 0.5  0.75 1.  ]\n"
     ]
    }
   ],
   "source": [
    "a1 = np.linspace(0, 1, 5)\n",
    "print(a1)\n",
    "\n",
    "a2 = np.arange(0, 1.25, 0.25)\n",
    "print(a2)"
   ],
   "metadata": {
    "collapsed": false,
    "pycharm": {
     "name": "#%%\n"
    }
   }
  },
  {
   "cell_type": "markdown",
   "source": [
    "#### 4. Напишите код для создания массива с 5 равномерно распределенными случайными значениями в диапазоне от 0 до 1"
   ],
   "metadata": {
    "collapsed": false,
    "pycharm": {
     "name": "#%% md\n"
    }
   }
  },
  {
   "cell_type": "code",
   "execution_count": 53,
   "outputs": [
    {
     "name": "stdout",
     "output_type": "stream",
     "text": [
      "[0.92972563 0.14781363 0.68312578 0.74991413 0.40875612]\n"
     ]
    }
   ],
   "source": [
    "a3 = np.random.rand(5)\n",
    "print(a3)"
   ],
   "metadata": {
    "collapsed": false,
    "pycharm": {
     "name": "#%%\n"
    }
   }
  },
  {
   "cell_type": "markdown",
   "source": [
    "#### 5. Напишите код для создания массива с 5 нормально распределенными случайными значениями с мат. ожиданием = 0 и дисперсией 1"
   ],
   "metadata": {
    "collapsed": false,
    "pycharm": {
     "name": "#%% md\n"
    }
   }
  },
  {
   "cell_type": "code",
   "execution_count": 107,
   "outputs": [
    {
     "name": "stdout",
     "output_type": "stream",
     "text": [
      "[ 0.81859683 -0.86355146  2.33236273  0.91014086 -0.05613974]\n",
      "[2.00049619 1.99927481 1.99948029 1.99879578 1.99946009]\n"
     ]
    }
   ],
   "source": [
    "normal = np.random.normal(size=5) #по умолчанию стандартное N(0,1)\n",
    "print(normal)\n",
    "\n",
    "normal = np.random.normal(2, 0.125, 5) # mu = 2; D=0.125^2 !!!!\n",
    "print(normal)"
   ],
   "metadata": {
    "collapsed": false,
    "pycharm": {
     "name": "#%%\n"
    }
   }
  },
  {
   "cell_type": "markdown",
   "source": [
    "#### 6. Напишите код для создания массива с 5 случайнвми целыми числами в от [0, 10)"
   ],
   "metadata": {
    "collapsed": false,
    "pycharm": {
     "name": "#%% md\n"
    }
   }
  },
  {
   "cell_type": "code",
   "execution_count": 52,
   "outputs": [
    {
     "name": "stdout",
     "output_type": "stream",
     "text": [
      "[2 0 1 4 2]\n"
     ]
    }
   ],
   "source": [
    "a4 = np.random.randint(0, 10, 5)\n",
    "print(a4)"
   ],
   "metadata": {
    "collapsed": false,
    "pycharm": {
     "name": "#%%\n"
    }
   }
  },
  {
   "cell_type": "markdown",
   "source": [
    "#### 7. Написать код для создания срезов массива 3 на 4\n",
    "- первые две строки и три столбца\n",
    "- первые три строки и второй столбец\n",
    "- все строки и столбцы в обратном порядке\n",
    "- второй столбец\n",
    "- третья строка"
   ],
   "metadata": {
    "collapsed": false,
    "pycharm": {
     "name": "#%% md\n"
    }
   }
  },
  {
   "cell_type": "code",
   "execution_count": 10,
   "outputs": [
    {
     "name": "stdout",
     "output_type": "stream",
     "text": [
      "[[ 1  2  3  4]\n",
      " [ 5  6  7  8]\n",
      " [ 9 10 11 12]] \n",
      "\n",
      "[[1 2 3]\n",
      " [5 6 7]] \n",
      "\n",
      "[ 2  6 10] \n",
      "\n",
      "[[ 4  3  2  1]\n",
      " [ 8  7  6  5]\n",
      " [12 11 10  9]] \n",
      "\n",
      "[ 2  6 10] \n",
      "\n",
      "[ 9 10 11 12] \n",
      "\n"
     ]
    }
   ],
   "source": [
    "arr = np.array([\n",
    "     [1, 2, 3, 4],\n",
    "     [5, 6, 7, 8],\n",
    "     [9, 10, 11, 12]\n",
    "])\n",
    "print(arr, \"\\n\")\n",
    "print(arr[:2,:3], \"\\n\")\n",
    "print(arr[:3,1], \"\\n\")\n",
    "print(arr[:,::-1], \"\\n\")\n",
    "print(arr[:,1], \"\\n\")\n",
    "print(arr[2,:], \"\\n\")"
   ],
   "metadata": {
    "collapsed": false,
    "pycharm": {
     "name": "#%%\n"
    }
   }
  },
  {
   "cell_type": "markdown",
   "source": [
    "#### 8. Продемонстрируйте, как сделать срез-копию"
   ],
   "metadata": {
    "collapsed": false,
    "pycharm": {
     "name": "#%% md\n"
    }
   }
  },
  {
   "cell_type": "code",
   "execution_count": 35,
   "outputs": [
    {
     "name": "stdout",
     "output_type": "stream",
     "text": [
      "[1 2 3 4 5 6] \n",
      "\n",
      "[[1 2 3 4]\n",
      " [5 6 7 8]]\n",
      "[[1 2 3 4]\n",
      " [5 6 7 8]] \n",
      "\n",
      "[[-10 -10 -10 -10]\n",
      " [-10   6   7   8]\n",
      " [-10  10  11  12]]\n"
     ]
    }
   ],
   "source": [
    "a1 = np.array([1, 2, 3, 4, 5, 6])\n",
    "b = a1.copy()\n",
    "b[0] = 0\n",
    "print(a1, \"\\n\") #Теперь это действительно копия\n",
    "\n",
    "matrix = np.array([\n",
    "     [1, 2, 3, 4],\n",
    "     [5, 6, 7, 8],\n",
    "     [9, 10, 11, 12]\n",
    "])\n",
    "\n",
    "a2 = matrix[:2, :].copy()\n",
    "print(a2)\n",
    "matrix[:, 0] = -10\n",
    "matrix[0,:] = -10\n",
    "print(a2, \"\\n\")\n",
    "print(matrix)"
   ],
   "metadata": {
    "collapsed": false,
    "pycharm": {
     "name": "#%%\n"
    }
   }
  },
  {
   "cell_type": "markdown",
   "source": [
    "#### 9. Продемонстрируйте использование newaxis для получения вектора-столбца и вектора-строки"
   ],
   "metadata": {
    "collapsed": false,
    "pycharm": {
     "name": "#%% md\n"
    }
   }
  },
  {
   "cell_type": "code",
   "execution_count": 38,
   "outputs": [
    {
     "name": "stdout",
     "output_type": "stream",
     "text": [
      "[ 1  2  3  4  5  6  7  8  9 10 11 12]\n",
      "[[ 1  2  3  4  5  6  7  8  9 10 11 12]]\n",
      "[[ 1]\n",
      " [ 2]\n",
      " [ 3]\n",
      " [ 4]\n",
      " [ 5]\n",
      " [ 6]\n",
      " [ 7]\n",
      " [ 8]\n",
      " [ 9]\n",
      " [10]\n",
      " [11]\n",
      " [12]]\n"
     ]
    }
   ],
   "source": [
    "A = np.arange(1, 13)\n",
    "print(A)\n",
    "r_vec = A[np.newaxis, :]\n",
    "print(r_vec)\n",
    "c_vec = A[:, np.newaxis]\n",
    "print(c_vec)"
   ],
   "metadata": {
    "collapsed": false,
    "pycharm": {
     "name": "#%%\n"
    }
   }
  },
  {
   "cell_type": "markdown",
   "source": [
    "#### 10. Разберитесь, как работает метод dstack"
   ],
   "metadata": {
    "collapsed": false,
    "pycharm": {
     "name": "#%% md\n"
    }
   }
  },
  {
   "cell_type": "code",
   "execution_count": 64,
   "outputs": [
    {
     "name": "stdout",
     "output_type": "stream",
     "text": [
      "[[[ 1  7]\n",
      "  [ 2  8]\n",
      "  [ 3  9]\n",
      "  [ 4 10]\n",
      "  [ 5 11]\n",
      "  [ 6 12]]] \n",
      "\n",
      "[[[ 1  1]\n",
      "  [ 2  2]\n",
      "  [ 3  3]]\n",
      "\n",
      " [[ 5  4]\n",
      "  [ 6  5]\n",
      "  [ 7  6]]\n",
      "\n",
      " [[ 9  7]\n",
      "  [10  8]\n",
      "  [11  9]]] \n",
      "\n"
     ]
    }
   ],
   "source": [
    "a = np.array([1, 2, 3, 4, 5, 6])\n",
    "b = np.array([7, 8, 9, 10, 11, 12])\n",
    "\n",
    "print(np.dstack([a, b]), \"\\n\")\n",
    "\n",
    "m1 = np.array([\n",
    "     [1, 2, 3],\n",
    "     [5, 6, 7],\n",
    "     [9, 10, 11]\n",
    "])\n",
    "m2 = np.array([\n",
    "     [1, 2, 3],\n",
    "     [4, 5, 6],\n",
    "     [7, 8, 9]\n",
    "])\n",
    "\n",
    "print(np.dstack([m1, m2]), \"\\n\")\n",
    "\n",
    "# Метод будет создавать трехмерный массив\n",
    "# Массив состоит из пар чисел, стоящих в одинаковых позициях."
   ],
   "metadata": {
    "collapsed": false,
    "pycharm": {
     "name": "#%%\n"
    }
   }
  },
  {
   "cell_type": "markdown",
   "source": [
    "#### 11. Разберитесь, как работают методы split, vsplit, hsplit, dsplit\n",
    "\n",
    "Будем разбирать только split, так как\n",
    "\n",
    "vsplit = split при axis=0\n",
    "hsplit = split при axis=1\n",
    "dsplit = split при axis=2\n",
    "\n",
    "axis=0 по умолчанию"
   ],
   "metadata": {
    "collapsed": false,
    "pycharm": {
     "name": "#%% md\n"
    }
   }
  },
  {
   "cell_type": "code",
   "execution_count": 93,
   "outputs": [
    {
     "name": "stdout",
     "output_type": "stream",
     "text": [
      "[array([1, 2, 3]), array([4, 5, 6]), array([7, 8])]\n",
      "[array([1, 2, 3]), array([4, 5, 6]), array([7, 8]), array([], dtype=int64)]\n",
      "[[1 2 3]] [[5 6 7]] [[ 9 10 11]] \n",
      "\n",
      "[array([[1],\n",
      "       [5],\n",
      "       [9]]), array([[ 2],\n",
      "       [ 6],\n",
      "       [10]]), array([[ 3],\n",
      "       [ 7],\n",
      "       [11]])] \n",
      "\n",
      "[[[ 1  1]\n",
      "  [ 2  2]\n",
      "  [ 3  3]]\n",
      "\n",
      " [[ 5  4]\n",
      "  [ 6  5]\n",
      "  [ 7  6]]\n",
      "\n",
      " [[ 9  7]\n",
      "  [10  8]\n",
      "  [11  9]]] \n",
      "\n",
      "[[[ 1]\n",
      "  [ 2]\n",
      "  [ 3]]\n",
      "\n",
      " [[ 5]\n",
      "  [ 6]\n",
      "  [ 7]]\n",
      "\n",
      " [[ 9]\n",
      "  [10]\n",
      "  [11]]]\n",
      "[[ 1  2  3]\n",
      " [ 5  6  7]\n",
      " [ 9 10 11]]\n",
      "[[ 1  2  3]\n",
      " [ 5  6  7]\n",
      " [ 9 10 11]]\n"
     ]
    }
   ],
   "source": [
    "a = [1, 2, 3, 4, 5, 6, 7, 8]\n",
    "#axis=0\n",
    "print(np.split(a, [3, 6,])) #Разделит массив на куски разных размеров.\n",
    "print(np.split(a, [3, 6, 8])) # Конечный индекс+1 не пишем, иначе получим пустой кусок\n",
    "\n",
    "a1, a2, a3 = np.split(m1, 3) # Разделение на 3 одинаоквых массива если такое возможно\n",
    "print(a1, a2, a3, \"\\n\") #матрица делится по строкам при axis = 0\n",
    "\n",
    "print(np.split(m1, 3, axis=1), \"\\n\") # Деление по столбцам\n",
    "\n",
    "mm = np.dstack([m1, m2])\n",
    "print(mm, \"\\n\")\n",
    "a1, a2 = np.split(mm, 2, axis=2) #Размерность массива больше равна чем 3\n",
    "print(a1) #Угадаем что это за срез\n",
    "print(mm[:, :,0]) #Деление произошло по последнему индексу. Имеется лишняя скобка, нужно сдеалть решейп\n",
    "print(a1.reshape(3,3))\n"
   ],
   "metadata": {
    "collapsed": false,
    "pycharm": {
     "name": "#%%\n"
    }
   }
  },
  {
   "cell_type": "markdown",
   "source": [
    "#### 12. Привести пример использования всех универсальных функций, которые я привёл"
   ],
   "metadata": {
    "collapsed": false,
    "pycharm": {
     "name": "#%% md\n"
    }
   }
  },
  {
   "cell_type": "code",
   "execution_count": 103,
   "outputs": [
    {
     "name": "stdout",
     "output_type": "stream",
     "text": [
      "[ 1  2  3  4  5  6  7  8  9 10 11 12]\n",
      "[ 0.84147098  0.90929743  0.14112001 -0.7568025  -0.95892427 -0.2794155\n",
      "  0.6569866   0.98935825  0.41211849 -0.54402111 -0.99999021 -0.53657292]\n",
      "[ 0.54030231 -0.41614684 -0.9899925  -0.65364362  0.28366219  0.96017029\n",
      "  0.75390225 -0.14550003 -0.91113026 -0.83907153  0.0044257   0.84385396]\n",
      "[0.5 1.  1.5 2.  2.5 3.  3.5 4.  4.5 5.  5.5 6. ]\n",
      "[0 1 1 2 2 3 3 4 4 5 5 6]\n",
      "[1 0 1 0 1 0 1 0 1 0 1 0]\n",
      "[ -1  -2  -3  -4  -5  -6  -7  -8  -9 -10 -11 -12]\n",
      "[0.         0.69314718 1.09861229 1.38629436 1.60943791 1.79175947\n",
      " 1.94591015 2.07944154 2.19722458 2.30258509 2.39789527 2.48490665]\n",
      "[2.71828183e+00 7.38905610e+00 2.00855369e+01 5.45981500e+01\n",
      " 1.48413159e+02 4.03428793e+02 1.09663316e+03 2.98095799e+03\n",
      " 8.10308393e+03 2.20264658e+04 5.98741417e+04 1.62754791e+05]\n",
      "[  1   4   9  16  25  36  49  64  81 100 121 144]\n"
     ]
    }
   ],
   "source": [
    "x = np.arange(1,13)\n",
    "print(x)\n",
    "print(np.sin(x))\n",
    "print(np.cos(x))\n",
    "print(np.tan(x))\n",
    "print(x/2)\n",
    "print(x//2)\n",
    "print(x%2)\n",
    "print(-x)\n",
    "print(np.log(x))\n",
    "print(np.exp(x))\n",
    "print(x**2)"
   ],
   "metadata": {
    "collapsed": false,
    "pycharm": {
     "name": "#%%\n"
    }
   }
  },
  {
   "cell_type": "code",
   "execution_count": null,
   "outputs": [],
   "source": [],
   "metadata": {
    "collapsed": false,
    "pycharm": {
     "name": "#%%\n"
    }
   }
  }
 ],
 "metadata": {
  "kernelspec": {
   "display_name": "Python 3",
   "language": "python",
   "name": "python3"
  },
  "language_info": {
   "codemirror_mode": {
    "name": "ipython",
    "version": 2
   },
   "file_extension": ".py",
   "mimetype": "text/x-python",
   "name": "python",
   "nbconvert_exporter": "python",
   "pygments_lexer": "ipython2",
   "version": "2.7.6"
  }
 },
 "nbformat": 4,
 "nbformat_minor": 0
}