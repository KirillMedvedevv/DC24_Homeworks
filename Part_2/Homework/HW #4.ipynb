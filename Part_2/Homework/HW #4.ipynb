{
 "cells": [
  {
   "cell_type": "code",
   "execution_count": 2,
   "metadata": {
    "collapsed": true,
    "ExecuteTime": {
     "end_time": "2025-02-03T17:46:31.193172800Z",
     "start_time": "2025-02-03T17:46:30.713713300Z"
    }
   },
   "outputs": [],
   "source": [
    "import numpy as np\n",
    "import pandas as pd"
   ]
  },
  {
   "cell_type": "markdown",
   "source": [
    "## 1. Разобраться как использовать мультииндексные ключи в данном примере"
   ],
   "metadata": {
    "collapsed": false
   }
  },
  {
   "cell_type": "code",
   "execution_count": 29,
   "outputs": [
    {
     "ename": "IndexError",
     "evalue": "list index out of range",
     "output_type": "error",
     "traceback": [
      "\u001B[1;31m---------------------------------------------------------------------------\u001B[0m",
      "\u001B[1;31mIndexError\u001B[0m                                Traceback (most recent call last)",
      "Cell \u001B[1;32mIn[29], line 34\u001B[0m\n\u001B[0;32m     19\u001B[0m pop \u001B[38;5;241m=\u001B[39m pd\u001B[38;5;241m.\u001B[39mSeries(population, index \u001B[38;5;241m=\u001B[39m index)\n\u001B[0;32m     20\u001B[0m pop_df \u001B[38;5;241m=\u001B[39m pd\u001B[38;5;241m.\u001B[39mDataFrame(\n\u001B[0;32m     21\u001B[0m     {\n\u001B[0;32m     22\u001B[0m          \u001B[38;5;124m'\u001B[39m\u001B[38;5;124mtotal\u001B[39m\u001B[38;5;124m'\u001B[39m: pop,\n\u001B[1;32m   (...)\u001B[0m\n\u001B[0;32m     31\u001B[0m     }\n\u001B[0;32m     32\u001B[0m )\n\u001B[1;32m---> 34\u001B[0m pop_df_1 \u001B[38;5;241m=\u001B[39m pop_df\u001B[38;5;241m.\u001B[39mloc[\u001B[43m[\u001B[49m\u001B[38;5;124;43m'\u001B[39;49m\u001B[38;5;124;43mcity_1\u001B[39;49m\u001B[38;5;124;43m'\u001B[39;49m\u001B[43m]\u001B[49m\u001B[43m[\u001B[49m\u001B[38;5;241;43m2020\u001B[39;49m\u001B[43m]\u001B[49m, [\u001B[38;5;124m'\u001B[39m\u001B[38;5;124msomething\u001B[39m\u001B[38;5;124m'\u001B[39m]] \u001B[38;5;66;03m# Добавить скобок\u001B[39;00m\n\u001B[0;32m     35\u001B[0m pop_df_2 \u001B[38;5;241m=\u001B[39m pop_df\u001B[38;5;241m.\u001B[39mloc[[\u001B[38;5;124m'\u001B[39m\u001B[38;5;124mcity_1\u001B[39m\u001B[38;5;124m'\u001B[39m, \u001B[38;5;124m'\u001B[39m\u001B[38;5;124mcity_3\u001B[39m\u001B[38;5;124m'\u001B[39m], [\u001B[38;5;124m'\u001B[39m\u001B[38;5;124mtotal\u001B[39m\u001B[38;5;124m'\u001B[39m, \u001B[38;5;124m'\u001B[39m\u001B[38;5;124msomething\u001B[39m\u001B[38;5;124m'\u001B[39m]]\n\u001B[0;32m     36\u001B[0m pop_df_3 \u001B[38;5;241m=\u001B[39m pop_df\u001B[38;5;241m.\u001B[39mloc[[\u001B[38;5;124m'\u001B[39m\u001B[38;5;124mcity_1\u001B[39m\u001B[38;5;124m'\u001B[39m, \u001B[38;5;124m'\u001B[39m\u001B[38;5;124mcity_3\u001B[39m\u001B[38;5;124m'\u001B[39m], [\u001B[38;5;124m'\u001B[39m\u001B[38;5;124msomething\u001B[39m\u001B[38;5;124m'\u001B[39m]] \u001B[38;5;66;03m# Добавить скобок\u001B[39;00m\n",
      "\u001B[1;31mIndexError\u001B[0m: list index out of range"
     ]
    }
   ],
   "source": [
    "index = [\n",
    "     ('city_1', 2010),\n",
    "     ('city_1', 2020),\n",
    "     ('city_2', 2010),\n",
    "     ('city_2', 2020),\n",
    "     ('city_3', 2010),\n",
    "     ('city_3', 2020)\n",
    "]\n",
    "\n",
    "population = [\n",
    "     101,\n",
    "     201,\n",
    "     102,\n",
    "     202,\n",
    "     103,\n",
    "     203\n",
    "]\n",
    "index = pd.MultiIndex.from_tuples(index) # Добавить !!!\n",
    "pop = pd.Series(population, index = index)\n",
    "pop_df = pd.DataFrame(\n",
    "    {\n",
    "         'total': pop,\n",
    "         'something': [\n",
    "             10,\n",
    "             11,\n",
    "             12,\n",
    "             13,\n",
    "             14,\n",
    "             15\n",
    "         ]\n",
    "    }\n",
    ")\n",
    "\n",
    "pop_df_1 = pop_df.loc[['city_1'], ['something']] # Добавить скобок\n",
    "pop_df_2 = pop_df.loc[['city_1', 'city_3'], ['total', 'something']]\n",
    "pop_df_3 = pop_df.loc[['city_1', 'city_3'], ['something']] # Добавить скобок\n",
    "\n",
    "print(pop_df_1, '\\n')\n",
    "print(pop_df_2, '\\n')\n",
    "print(pop_df_3, '\\n')"
   ],
   "metadata": {
    "collapsed": false,
    "ExecuteTime": {
     "end_time": "2025-02-03T19:45:24.980657600Z",
     "start_time": "2025-02-03T19:45:24.963231500Z"
    }
   }
  },
  {
   "cell_type": "markdown",
   "source": [
    "## 2. Из получившихся данных выбрать данные по\n",
    "- 2020 году (для всех столбцов)\n",
    "- job_1 (для всех строк)\n",
    "- для city_1 и job_2"
   ],
   "metadata": {
    "collapsed": false
   }
  },
  {
   "cell_type": "code",
   "execution_count": 52,
   "outputs": [
    {
     "name": "stdout",
     "output_type": "stream",
     "text": [
      "worker       person_1            person_2            person_3          \n",
      "job             job_1     job_2     job_1     job_2     job_1     job_2\n",
      "city   year                                                            \n",
      "city_1 2010  0.511822  0.950464  0.144160  0.948649  0.311831  0.423326\n",
      "       2020  0.827703  0.409199  0.549594  0.027559  0.753513  0.538143\n",
      "city_2 2010  0.329732  0.788429  0.303195  0.453498  0.134042  0.403113\n",
      "       2020  0.203455  0.262313  0.750365  0.280409  0.485191  0.980737 \n",
      "\n",
      "worker  person_1            person_2            person_3          \n",
      "job        job_1     job_2     job_1     job_2     job_1     job_2\n",
      "city                                                              \n",
      "city_1  0.827703  0.409199  0.549594  0.027559  0.753513  0.538143\n",
      "city_2  0.203455  0.262313  0.750365  0.280409  0.485191  0.980737 \n",
      "\n",
      "worker       person_1  person_2  person_3\n",
      "city   year                              \n",
      "city_1 2010  0.511822  0.144160  0.311831\n",
      "       2020  0.827703  0.549594  0.753513\n",
      "city_2 2010  0.329732  0.303195  0.134042\n",
      "       2020  0.203455  0.750365  0.485191 \n",
      "\n",
      "worker       person_1  person_2  person_3\n",
      "city   year                              \n",
      "city_1 2010  0.511822  0.144160  0.311831\n",
      "       2020  0.827703  0.549594  0.753513\n",
      "city_2 2010  0.329732  0.303195  0.134042\n",
      "       2020  0.203455  0.750365  0.485191 \n",
      "\n",
      "worker  person_1  person_2  person_3\n",
      "year                                \n",
      "2010    0.950464  0.948649  0.423326\n",
      "2020    0.409199  0.027559  0.538143 \n",
      "\n",
      "worker  person_1  person_2  person_3\n",
      "year                                \n",
      "2010    0.950464  0.948649  0.423326\n",
      "2020    0.409199  0.027559  0.538143 \n",
      "\n"
     ]
    }
   ],
   "source": [
    "index = pd.MultiIndex.from_product(\n",
    "    [\n",
    "        ['city_1', 'city_2'],\n",
    "        [2010, 2020]\n",
    "    ],\n",
    "    names = ['city', 'year']\n",
    ")\n",
    "\n",
    "columns = pd.MultiIndex.from_product(\n",
    "    [\n",
    "        ['person_1', 'person_2', 'person_3'],\n",
    "        ['job_1', 'job_2']\n",
    "    ],\n",
    "    names=['worker', 'job']\n",
    ")\n",
    "\n",
    "rng = np.random.default_rng(1)\n",
    "\n",
    "data = rng.random((4, 6))\n",
    "\n",
    "data_df = pd.DataFrame(data, index=index, columns=columns)\n",
    "print(data_df, '\\n') #0\n",
    "print(data_df.xs(2020, level=\"year\"), '\\n') #1\n",
    "print(data_df.xs(\"job_1\", level='job', axis=1), '\\n')\n",
    "print(data_df.xs(\"job_1\", level='job', axis=1), '\\n')\n",
    "print(data_df.loc['city_1'].xs(\"job_2\", level='job', axis=1), '\\n')"
   ],
   "metadata": {
    "collapsed": false,
    "ExecuteTime": {
     "end_time": "2025-02-03T20:09:01.998934100Z",
     "start_time": "2025-02-03T20:09:01.981360100Z"
    }
   }
  },
  {
   "cell_type": "markdown",
   "source": [
    "## 3. Взять за основу DataFrame со следующей структурой\n",
    "### 3.1 Выполнить запрос на получение следующих данных\n",
    "- все данные по person_1 и person_3\n",
    "- все данные по первому городу и первым двум person-ам (с использование срезов)\n",
    "\n",
    "### 3.2 Приведите пример (самостоятельно) с использованием pd.IndexSlice"
   ],
   "metadata": {
    "collapsed": false
   }
  },
  {
   "cell_type": "code",
   "execution_count": 58,
   "outputs": [
    {
     "name": "stdout",
     "output_type": "stream",
     "text": [
      "worker       person_1            person_3          \n",
      "job             job_1     job_2     job_1     job_2\n",
      "city   year                                        \n",
      "city_1 2010  0.511822  0.950464  0.311831  0.423326\n",
      "       2020  0.827703  0.409199  0.753513  0.538143\n",
      "city_2 2010  0.329732  0.788429  0.134042  0.403113\n",
      "       2020  0.203455  0.262313  0.485191  0.980737 \n",
      "\n",
      "worker  person_1            person_2          \n",
      "job        job_1     job_2     job_1     job_2\n",
      "year                                          \n",
      "2010    0.511822  0.950464  0.144160  0.948649\n",
      "2020    0.827703  0.409199  0.549594  0.027559\n",
      "worker       person_1            person_3          \n",
      "job             job_1     job_2     job_1     job_2\n",
      "city   year                                        \n",
      "city_1 2010  0.511822  0.950464  0.311831  0.423326\n",
      "       2020  0.827703  0.409199  0.753513  0.538143\n",
      "city_2 2010  0.329732  0.788429  0.134042  0.403113\n",
      "       2020  0.203455  0.262313  0.485191  0.980737 \n",
      "\n",
      "worker  person_1            person_2          \n",
      "job        job_1     job_2     job_1     job_2\n",
      "year                                          \n",
      "2010    0.511822  0.950464  0.144160  0.948649\n",
      "2020    0.827703  0.409199  0.549594  0.027559\n"
     ]
    }
   ],
   "source": [
    "index = pd.MultiIndex.from_product(\n",
    "    [\n",
    "        ['city_1', 'city_2'],\n",
    "        [2010, 2020]\n",
    "    ],\n",
    "    names = ['city', 'year']\n",
    ")\n",
    "\n",
    "columns = pd.MultiIndex.from_product(\n",
    "    [\n",
    "        ['person_1', 'person_2', 'person_3'],\n",
    "        ['job_1', 'job_2']\n",
    "    ],\n",
    "    names=['worker', 'job']\n",
    ")\n",
    "\n",
    "rng = np.random.default_rng(1)\n",
    "\n",
    "data = rng.random((4, 6))\n",
    "\n",
    "data_df = pd.DataFrame(data, index=index, columns=columns)\n",
    "\n",
    "print(data_df.loc[:,(['person_1', 'person_3'], slice(None))], '\\n')\n",
    "print(data_df.loc['city_1', 'person_1':'person_2'], '\\n')\n",
    "\n",
    "idx = pd.IndexSlice\n",
    "print(data_df.loc[:,idx[['person_1','person_3'], :]], '\\n')"
   ],
   "metadata": {
    "collapsed": false,
    "ExecuteTime": {
     "end_time": "2025-02-03T20:30:51.927285100Z",
     "start_time": "2025-02-03T20:30:51.903261900Z"
    }
   }
  },
  {
   "cell_type": "markdown",
   "source": [
    "## 4. Привести пример использования inner и outer джойнов для Series (данные примера скорее всего нужно изменить)\n"
   ],
   "metadata": {
    "collapsed": false
   }
  },
  {
   "cell_type": "code",
   "execution_count": 62,
   "outputs": [
    {
     "name": "stdout",
     "output_type": "stream",
     "text": [
      "  Ser1 Ser2\n",
      "1    a  NaN\n",
      "2    b    b\n",
      "3    c    c\n",
      "4  NaN    f\n",
      "  Ser1 Ser2\n",
      "2    b    b\n",
      "3    c    c\n"
     ]
    }
   ],
   "source": [
    "ser1 = pd.Series(['a', 'b', 'c'], index=[1,2,3], name=\"Ser1\")\n",
    "ser2 = pd.Series(['b', 'c', 'f'], index=[2,3,4], name=\"Ser2\")\n",
    "\n",
    "print(pd.concat([ser1, ser2], join='outer', axis=1)) # Все индексы объединены\n",
    "print(pd.concat([ser1, ser2], join='inner', axis=1)) # Объединены общие индексы"
   ],
   "metadata": {
    "collapsed": false,
    "ExecuteTime": {
     "end_time": "2025-02-03T20:56:09.335718600Z",
     "start_time": "2025-02-03T20:56:09.328779200Z"
    }
   }
  },
  {
   "cell_type": "code",
   "execution_count": null,
   "outputs": [],
   "source": [],
   "metadata": {
    "collapsed": false
   }
  }
 ],
 "metadata": {
  "kernelspec": {
   "display_name": "Python 3",
   "language": "python",
   "name": "python3"
  },
  "language_info": {
   "codemirror_mode": {
    "name": "ipython",
    "version": 2
   },
   "file_extension": ".py",
   "mimetype": "text/x-python",
   "name": "python",
   "nbconvert_exporter": "python",
   "pygments_lexer": "ipython2",
   "version": "2.7.6"
  }
 },
 "nbformat": 4,
 "nbformat_minor": 0
}
