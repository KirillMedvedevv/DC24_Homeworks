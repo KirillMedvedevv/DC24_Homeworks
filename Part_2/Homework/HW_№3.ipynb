{
 "cells": [
  {
   "cell_type": "code",
   "execution_count": 2,
   "metadata": {
    "collapsed": true,
    "ExecuteTime": {
     "end_time": "2025-01-27T14:51:47.607152300Z",
     "start_time": "2025-01-27T14:51:47.187018100Z"
    }
   },
   "outputs": [],
   "source": [
    "import numpy as np\n",
    "import pandas as pd"
   ]
  },
  {
   "cell_type": "markdown",
   "source": [
    "### 1. Привести различные способы создания объектов типа Series"
   ],
   "metadata": {
    "collapsed": false
   }
  },
  {
   "cell_type": "code",
   "execution_count": 5,
   "outputs": [
    {
     "name": "stdout",
     "output_type": "stream",
     "text": [
      "0    2\n",
      "1    1\n",
      "2    2\n",
      "3    3\n",
      "4    4\n",
      "5    5\n",
      "dtype: int64\n",
      "0    2\n",
      "1    1\n",
      "2    2\n",
      "3    3\n",
      "4    4\n",
      "5    5\n",
      "dtype: int64\n",
      "city_1    1000\n",
      "city_2    2000\n",
      "city_3    3000\n",
      "city_4    4000\n",
      "city_5    5000\n",
      "dtype: int64\n",
      "0    5\n",
      "dtype: int64\n"
     ]
    }
   ],
   "source": [
    "popuation_dict = { # Словарь\n",
    "    'city_1': 1000,\n",
    "    'city_2': 2000,\n",
    "    'city_3': 3000,\n",
    "    'city_4': 4000,\n",
    "    'city_5': 5000\n",
    "}\n",
    "list1 = [2, 1, 2, 3, 4, 5] # Список\n",
    "array = np.array(list1)\n",
    "\n",
    "series1 = pd.Series(list1)\n",
    "print(series1)\n",
    "series2 = pd.Series(array)\n",
    "print(series2)\n",
    "series3 = pd.Series(popuation_dict)\n",
    "print(series3)\n",
    "series4 = pd.Series(5)\n",
    "print(series4)"
   ],
   "metadata": {
    "collapsed": false,
    "ExecuteTime": {
     "end_time": "2025-01-27T14:52:22.411262200Z",
     "start_time": "2025-01-27T14:52:22.397582900Z"
    }
   }
  },
  {
   "cell_type": "markdown",
   "source": [
    "### 2. Привести различные способы создания объектов типа DataFrame|"
   ],
   "metadata": {
    "collapsed": false
   }
  },
  {
   "cell_type": "code",
   "execution_count": 19,
   "outputs": [
    {
     "name": "stdout",
     "output_type": "stream",
     "text": [
      "        population1  area1\n",
      "city_1         1000    100\n",
      "city_2         1002    200\n",
      "city_3         1003    300\n",
      "city_4         1004    400\n",
      "city_5         1005    500 \n",
      "\n",
      "        population1  area1\n",
      "city_1         1000    100\n",
      "city_2         1002    200\n",
      "city_3         1003    300\n",
      "city_4         1004    400\n",
      "city_5         1005    500 \n",
      "\n",
      "           city_1 city_2 city_3 city_4 city_5\n",
      "population   1000   1002   1003   1004   1005\n",
      "area          100    200    300    400    500\n",
      "president   name1  name2  name3  name4  name5 \n",
      "\n",
      "    0   1   2   3   4\n",
      "0   1   2   3   4   5\n",
      "1   6   7   8   9  10\n",
      "2  11  12  13  14  15 \n",
      "\n",
      "        population  area\n",
      "city_1        1000   100\n",
      "city_2        1002   200\n",
      "city_3        1003   300\n",
      "city_4        1004   400\n",
      "city_5        1005   500\n"
     ]
    }
   ],
   "source": [
    "population_dict = {\n",
    "    'city_1': 1000,\n",
    "    'city_2': 1002,\n",
    "    'city_3': 1003,\n",
    "    'city_4': 1004,\n",
    "    'city_5': 1005\n",
    "}\n",
    "area_dict = {\n",
    "    'city_1': 100,\n",
    "    'city_2': 200,\n",
    "    'city_3': 300,\n",
    "    'city_4': 400,\n",
    "    'city_5': 500\n",
    "}\n",
    "\n",
    "prezident_dict = {\n",
    "    'city_1': \"name1\",\n",
    "    'city_2': \"name2\",\n",
    "    'city_3': \"name3\",\n",
    "    'city_4': \"name4\",\n",
    "    'city_5': \"name5\"\n",
    "}\n",
    "\n",
    "population = pd.Series(population_dict)\n",
    "area = pd.Series(area_dict)\n",
    "\n",
    "#1 Объекты сериес\n",
    "states1 = pd.DataFrame({\n",
    "    \"population1\":population,\n",
    "    \"area1\": area\n",
    "})\n",
    "print(states1, '\\n')\n",
    "\n",
    "#2 Словарь объектов сериес\n",
    "dict0 = {\"population1\":population, \"area1\": area}\n",
    "states2 = pd.DataFrame(dict0)\n",
    "print(states2, '\\n')\n",
    "\n",
    "#3 Cисок словарей\n",
    "list1 = [population_dict, area_dict, prezident_dict]\n",
    "state3 = pd.DataFrame(list1, index=[\"population\", \"area\", \"president\"])\n",
    "print(state3, '\\n')\n",
    "\n",
    "\n",
    "#4 Двумерный массив нампи\n",
    "array = np.array([\n",
    "    [1, 2, 3, 4, 5],\n",
    "    [6, 7, 8, 9, 10],\n",
    "    [11, 12, 13, 14, 15]\n",
    "])\n",
    "\n",
    "state4 = pd.DataFrame(array)\n",
    "print(state4, \"\\n\")\n",
    "\n",
    "#5 Структурированный массив нампи\n",
    "array = np.zeros(5, dtype={\"names\":('population', 'area'), \"formats\":('i4', 'i4')})\n",
    "\n",
    "name = ['city_1', 'city_2', 'city_3', 'city_4', 'city_5']\n",
    "pop1 = [1000, 2000, 3000, 4000, 5000]\n",
    "area = [100, 200, 300, 400, 500]\n",
    "array[\"population\"] = population\n",
    "array[\"area\"] = area\n",
    "\n",
    "state5 = pd.DataFrame(array, index=name)\n",
    "print(state5)"
   ],
   "metadata": {
    "collapsed": false,
    "ExecuteTime": {
     "end_time": "2025-01-27T15:58:03.216789900Z",
     "start_time": "2025-01-27T15:58:03.198955900Z"
    }
   }
  },
  {
   "cell_type": "markdown",
   "source": [
    "## 3. Объедините два объекта Series с неодинаковыми множествами ключей (индексов) так, чтобы вместо NaN было установлено значение 1"
   ],
   "metadata": {
    "collapsed": false
   }
  },
  {
   "cell_type": "code",
   "execution_count": 36,
   "outputs": [
    {
     "name": "stdout",
     "output_type": "stream",
     "text": [
      "         area1  population1\n",
      "city_1   100.0       1000.0\n",
      "city_2   200.0       1002.0\n",
      "city_3   300.0       1003.0\n",
      "city_4     1.0       1004.0\n",
      "city_42  400.0          1.0\n",
      "city_5   500.0          1.0\n",
      "city_52    1.0       1005.0\n"
     ]
    }
   ],
   "source": [
    "population_dict = {\n",
    "    'city_1': 1000,\n",
    "    'city_2': 1002,\n",
    "    'city_3': 1003,\n",
    "    'city_4': 1004,\n",
    "    'city_52': 1005\n",
    "}\n",
    "area_dict = {\n",
    "    'city_1': 100,\n",
    "    'city_2': 200,\n",
    "    'city_3': 300,\n",
    "    'city_42': 400,\n",
    "    'city_5': 500\n",
    "}\n",
    "population = pd.Series(population_dict)\n",
    "area = pd.Series(area_dict)\n",
    "data = pd.DataFrame({\"area1\":area, \"population1\":population})\n",
    "\n",
    "data1 = data.fillna(1) #Используем этот метод\n",
    "print(data1)"
   ],
   "metadata": {
    "collapsed": false,
    "ExecuteTime": {
     "end_time": "2025-01-27T19:37:20.602376100Z",
     "start_time": "2025-01-27T19:37:20.590934600Z"
    }
   }
  },
  {
   "cell_type": "markdown",
   "source": [
    "## 4. Переписать пример с транслирование для DataFrame так, чтобы вычитание происходило по СТОЛБЦАМ"
   ],
   "metadata": {
    "collapsed": false
   }
  },
  {
   "cell_type": "code",
   "execution_count": 34,
   "outputs": [
    {
     "name": "stdout",
     "output_type": "stream",
     "text": [
      "   a  b  c  d\n",
      "0  4  5  7  9\n",
      "1  0  1  8  9\n",
      "2  2  3  8  4 \n",
      "\n",
      "0    4\n",
      "1    0\n",
      "2    2\n",
      "Name: a, dtype: int64\n",
      "   a  b  c  d\n",
      "0  0  1  3  5\n",
      "1  0  1  8  9\n",
      "2  0  1  6  2\n",
      "   a  b  c  d\n",
      "0  0  1  3  5\n",
      "1  0  1  8  9\n",
      "2  0  1  6  2\n"
     ]
    }
   ],
   "source": [
    "rng = np.random.default_rng(1)\n",
    "A = rng.integers(0, 10, (3,4))\n",
    "df = pd.DataFrame(A, columns=['a', 'b', 'c', 'd'])\n",
    "print(df, '\\n')\n",
    "print(df['a'])\n",
    "print((df.T - df['a']).T) # Вариант 1\n",
    "print(df.sub(df['a'], axis=0)) # Вариант 2"
   ],
   "metadata": {
    "collapsed": false,
    "ExecuteTime": {
     "end_time": "2025-01-27T18:52:25.516426100Z",
     "start_time": "2025-01-27T18:52:25.495916500Z"
    }
   }
  },
  {
   "cell_type": "markdown",
   "source": [
    "## 5. На примере объектов DataFrame продемонстрируйте использование методов ffill() и bfill()\n",
    "\n",
    "ffil - Заполняет NaN, распространив последнее действительное наблюдение на следующее действительное\n",
    "\n",
    "bfil - Заполняет NaN, используя следующее допустимое наблюдение для заполнения пробела.\n",
    "\n",
    "Поиск наблюдения осуществляется по стобцам axis=1 или по строкам axis=0\n",
    "\n",
    "Если наблюдение отсутсвует, то NaN остаётся"
   ],
   "metadata": {
    "collapsed": false
   }
  },
  {
   "cell_type": "code",
   "execution_count": 42,
   "outputs": [
    {
     "name": "stdout",
     "output_type": "stream",
     "text": [
      "         area1  population1\n",
      "city_1   100.0       1000.0\n",
      "city_2   200.0       1002.0\n",
      "city_3   300.0       1003.0\n",
      "city_4     NaN       1004.0\n",
      "city_42  400.0          NaN\n",
      "city_5   500.0          NaN\n",
      "city_52    NaN       1005.0 \n",
      "\n",
      "         area1  population1\n",
      "city_1   100.0       1000.0\n",
      "city_2   200.0       1002.0\n",
      "city_3   300.0       1003.0\n",
      "city_4   300.0       1004.0\n",
      "city_42  400.0       1004.0\n",
      "city_5   500.0       1004.0\n",
      "city_52  500.0       1005.0\n",
      "         area1  population1\n",
      "city_1   100.0       1000.0\n",
      "city_2   200.0       1002.0\n",
      "city_3   300.0       1003.0\n",
      "city_4     NaN       1004.0\n",
      "city_42  400.0          NaN\n",
      "city_5   500.0          NaN\n",
      "city_52    NaN       1005.0 \n",
      "\n",
      "         area1  population1\n",
      "city_1   100.0       1000.0\n",
      "city_2   200.0       1002.0\n",
      "city_3   300.0       1003.0\n",
      "city_4     NaN       1004.0\n",
      "city_42  400.0        400.0\n",
      "city_5   500.0        500.0\n",
      "city_52    NaN       1005.0 \n",
      "\n",
      "         area1  population1\n",
      "city_1   100.0       1000.0\n",
      "city_2   200.0       1002.0\n",
      "city_3   300.0       1003.0\n",
      "city_4     NaN       1004.0\n",
      "city_42  400.0          NaN\n",
      "city_5   500.0          NaN\n",
      "city_52    NaN       1005.0 \n",
      "\n",
      "         area1  population1\n",
      "city_1   100.0       1000.0\n",
      "city_2   200.0       1002.0\n",
      "city_3   300.0       1003.0\n",
      "city_4   400.0       1004.0\n",
      "city_42  400.0       1005.0\n",
      "city_5   500.0       1005.0\n",
      "city_52    NaN       1005.0\n",
      "         area1  population1\n",
      "city_1   100.0       1000.0\n",
      "city_2   200.0       1002.0\n",
      "city_3   300.0       1003.0\n",
      "city_4     NaN       1004.0\n",
      "city_42  400.0          NaN\n",
      "city_5   500.0          NaN\n",
      "city_52    NaN       1005.0 \n",
      "\n",
      "          area1  population1\n",
      "city_1    100.0       1000.0\n",
      "city_2    200.0       1002.0\n",
      "city_3    300.0       1003.0\n",
      "city_4   1004.0       1004.0\n",
      "city_42   400.0          NaN\n",
      "city_5    500.0          NaN\n",
      "city_52  1005.0       1005.0\n"
     ]
    }
   ],
   "source": [
    "#ffil\n",
    "print(data, '\\n')\n",
    "print(data.ffill(axis=0))\n",
    "\n",
    "print(data, '\\n')\n",
    "print(data.ffill(axis=1), '\\n')\n",
    "\n",
    "#bfil\n",
    "print(data, '\\n')\n",
    "print(data.bfill(axis=0))\n",
    "\n",
    "print(data, '\\n')\n",
    "print(data.bfill(axis=1))"
   ],
   "metadata": {
    "collapsed": false,
    "ExecuteTime": {
     "end_time": "2025-01-27T19:39:44.423689900Z",
     "start_time": "2025-01-27T19:39:44.408212700Z"
    }
   }
  },
  {
   "cell_type": "code",
   "execution_count": null,
   "outputs": [],
   "source": [],
   "metadata": {
    "collapsed": false
   }
  }
 ],
 "metadata": {
  "kernelspec": {
   "display_name": "Python 3",
   "language": "python",
   "name": "python3"
  },
  "language_info": {
   "codemirror_mode": {
    "name": "ipython",
    "version": 2
   },
   "file_extension": ".py",
   "mimetype": "text/x-python",
   "name": "python",
   "nbconvert_exporter": "python",
   "pygments_lexer": "ipython2",
   "version": "2.7.6"
  }
 },
 "nbformat": 4,
 "nbformat_minor": 0
}
