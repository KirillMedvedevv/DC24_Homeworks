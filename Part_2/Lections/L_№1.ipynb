{
 "cells": [
  {
   "cell_type": "code",
   "execution_count": 18,
   "metadata": {
    "collapsed": true,
    "pycharm": {
     "name": "#%%\n"
    }
   },
   "outputs": [
    {
     "name": "stdout",
     "output_type": "stream",
     "text": [
      "<class 'int'>\n",
      "28\n",
      "<class 'str'>\n",
      "<class 'bool'>\n",
      "56\n",
      "88\n",
      "88\n"
     ]
    }
   ],
   "source": [
    "import numpy as np\n",
    "import sys\n",
    "import array\n",
    "\n",
    "# Типы данных\n",
    "\n",
    "x=1\n",
    "print(type(x))\n",
    "print(sys.getsizeof(x))\n",
    "\n",
    "x = \"Hello\"\n",
    "print(type(x))\n",
    "\n",
    "x = True\n",
    "print(type(x))\n",
    "\n",
    "l1 = list([])\n",
    "print(sys.getsizeof(l1))\n",
    "\n",
    "l2 = list([1, 2, 3])\n",
    "print(sys.getsizeof(l2))\n",
    "\n",
    "l3 = list([1, \"2\", True]) # Падает скорость\n",
    "print(sys.getsizeof(l2))"
   ]
  },
  {
   "cell_type": "code",
   "execution_count": 2,
   "outputs": [
    {
     "name": "stdout",
     "output_type": "stream",
     "text": [
      "92\n",
      "<class 'array.array'>\n"
     ]
    }
   ],
   "source": [
    "#Массивы\n",
    "a1 = array.array('i', [1, 2, 3]) #Коды типа; Тип, Элементы\n",
    "print(sys.getsizeof(a1))\n",
    "print(type(a1))"
   ],
   "metadata": {
    "collapsed": false,
    "pycharm": {
     "name": "#%%\n"
    }
   }
  },
  {
   "cell_type": "code",
   "execution_count": 17,
   "outputs": [
    {
     "name": "stdout",
     "output_type": "stream",
     "text": [
      "<class 'numpy.ndarray'> [1.23 2.   3.   4.   5.  ]\n",
      "<class 'numpy.ndarray'> [1 2 3 4 5]\n",
      "[[1 2 3]\n",
      " [2 3 4]\n",
      " [3 4 5]\n",
      " [4 5 6]\n",
      " [5 6 7]\n",
      " [6 7 8]]\n",
      "[0 0 0 0 0 0 0 0 0 0]\n",
      "[[1 1 1 1 1]\n",
      " [1 1 1 1 1]\n",
      " [1 1 1 1 1]]\n",
      "[[3.1415 3.1415 3.1415 3.1415 3.1415]\n",
      " [3.1415 3.1415 3.1415 3.1415 3.1415]\n",
      " [3.1415 3.1415 3.1415 3.1415 3.1415]\n",
      " [3.1415 3.1415 3.1415 3.1415 3.1415]]\n",
      "[ 0  2  4  6  8 10 12 14 16 18]\n",
      "[[1. 0. 0. 0.]\n",
      " [0. 1. 0. 0.]\n",
      " [0. 0. 1. 0.]\n",
      " [0. 0. 0. 1.]]\n"
     ]
    }
   ],
   "source": [
    "#Различные способы объявления массивов NumPy\n",
    "a = np.array([1.23, 2, 3, 4, 5]) # Повышающее приведение типов\n",
    "print(type(a), a)\n",
    "\n",
    "a1 = np.array([1.23, 2, 3, 4, 5], dtype=int) # Явное приведение типов\n",
    "print(type(a), a)\n",
    "\n",
    "print(\"\\n\")\n",
    "\n",
    "print(np.array([range(i, i+3) for i in [1, 2, 3, 4, 5, 6]]))\n",
    "print(np.zeros(10, dtype=int))\n",
    "print(np.ones((3,5), dtype=int))\n",
    "print(np.full((4,5), 3.1415))\n",
    "print(np.arange(0, 20, 2))\n",
    "print(np.eye(4)) #Квадратная единичная матрица"
   ],
   "metadata": {
    "collapsed": false,
    "pycharm": {
     "name": "#%%\n"
    }
   }
  },
  {
   "cell_type": "code",
   "execution_count": 10,
   "outputs": [
    {
     "name": "stdout",
     "output_type": "stream",
     "text": [
      "[5 8 9]\n",
      "[[5 0]\n",
      " [0 1]\n",
      " [7 6]]\n",
      "[[[9]\n",
      "  [2]]\n",
      "\n",
      " [[4]\n",
      "  [5]]\n",
      "\n",
      " [[2]\n",
      "  [4]]]\n",
      "3 (3, 2, 1) 6\n"
     ]
    }
   ],
   "source": [
    "np.random.seed(1)\n",
    "x1 = np.random.randint(10, size=3)\n",
    "print(x1)\n",
    "x2 = np.random.randint(10, size=(3,2))\n",
    "print(x2)\n",
    "x3 = np.random.randint(10, size=(3,2,1))\n",
    "print(x3)\n",
    "\n",
    "print(x3.ndim, x3.shape, x3.size) #Число размерностей, размер каждой размерности, общий размер"
   ],
   "metadata": {
    "collapsed": false,
    "pycharm": {
     "name": "#%%\n"
    }
   }
  },
  {
   "cell_type": "code",
   "execution_count": 29,
   "outputs": [
    {
     "name": "stdout",
     "output_type": "stream",
     "text": [
      "[1 2] [1 2]\n",
      "2\n",
      "[[  1   2]\n",
      " [100   4]]\n",
      "[3 2 3 4 5]\n"
     ]
    }
   ],
   "source": [
    "#Индекс\n",
    "a0 = np.array([1, 2, 3, 4, 5])\n",
    "print(a[0], a[-2])\n",
    "a = np.array([[1,2],\n",
    "              [3,4]])\n",
    "print(a[0,1])\n",
    "\n",
    "a[1,0]=100\n",
    "print(a)\n",
    "\n",
    "a0[0] = 3.6\n",
    "print(a0) #Тип при создании фиксирован"
   ],
   "metadata": {
    "collapsed": false,
    "pycharm": {
     "name": "#%%\n"
    }
   }
  },
  {
   "cell_type": "code",
   "execution_count": 33,
   "outputs": [
    {
     "name": "stdout",
     "output_type": "stream",
     "text": [
      "[1 2 3]\n",
      "[3 4 5]\n",
      "[2 3 4]\n",
      "[5 4 3 2 1]\n"
     ]
    }
   ],
   "source": [
    "#Cрезы и копии!!!\n",
    "#Формат [s:f:st]\n",
    "a0 = np.array([1, 2, 3, 4, 5])\n",
    "print(a0[:3])\n",
    "print(a0[2:])\n",
    "print(a0[1:-1])\n",
    "print(a0[::-1]) #Обратный порядок, минус меняет начало и конец местами"
   ],
   "metadata": {
    "collapsed": false,
    "pycharm": {
     "name": "#%%\n"
    }
   }
  },
  {
   "cell_type": "code",
   "execution_count": 38,
   "outputs": [
    {
     "name": "stdout",
     "output_type": "stream",
     "text": [
      "[ 1  2  3  4  5  6  7  8  9 10 11 12]\n",
      "[[ 1  2  3  4  5  6]\n",
      " [ 7  8  9 10 11 12]]\n"
     ]
    }
   ],
   "source": [
    "#Решейпы\n",
    "a0 = np.arange(1, 13)\n",
    "print(a0)\n",
    "print(a0.reshape(2,6)) #Общий размер должен сохранятся"
   ],
   "metadata": {
    "collapsed": false,
    "pycharm": {
     "name": "#%%\n"
    }
   }
  },
  {
   "cell_type": "code",
   "execution_count": 43,
   "outputs": [
    {
     "name": "stdout",
     "output_type": "stream",
     "text": [
      "[1 2 3 4 5 6]\n",
      "[[1 2 3]\n",
      " [4 5 6]]\n",
      "[[1 2 3 1 2 3]\n",
      " [4 5 6 4 5 6]]\n"
     ]
    }
   ],
   "source": [
    "#Конкатенация\n",
    "x = np.array([1, 2, 3])\n",
    "y = np.array([4, 5])\n",
    "z = np.array([6])\n",
    "\n",
    "print(np.concatenate([x, y, z]))\n",
    "y = np.array([4, 5, 6])\n",
    "r1 = np.vstack([x,y])\n",
    "print(r1)\n",
    "\n",
    "print(np.hstack([r1, r1]))"
   ],
   "metadata": {
    "collapsed": false,
    "pycharm": {
     "name": "#%%\n"
    }
   }
  },
  {
   "cell_type": "code",
   "execution_count": 45,
   "outputs": [
    {
     "name": "stdout",
     "output_type": "stream",
     "text": [
      "[1 2 3 4 5]\n",
      "[ 5  7  9 11 13]\n"
     ]
    }
   ],
   "source": [
    "#Вычисления с массивами\n",
    "\n",
    "x = np.arange(1, 6)\n",
    "print(x)\n",
    "print(x*2 + 3)"
   ],
   "metadata": {
    "collapsed": false,
    "pycharm": {
     "name": "#%%\n"
    }
   }
  },
  {
   "cell_type": "code",
   "execution_count": 62,
   "outputs": [
    {
     "name": "stdout",
     "output_type": "stream",
     "text": [
      "[0. 0. 0. 0. 0. 0. 0. 0. 0. 0.]\n",
      "[ 1.          0.          0.54030231  0.         -0.41614684  0.\n",
      " -0.9899925   0.         -0.65364362  0.        ]\n",
      "[0 1 2 3 4]\n",
      "10\n",
      "[ 0  1  3  6 10]\n",
      "[[ 0  0  0  0  0]\n",
      " [ 0  1  2  3  4]\n",
      " [ 0  2  4  6  8]\n",
      " [ 0  3  6  9 12]\n",
      " [ 0  4  8 12 16]]\n"
     ]
    }
   ],
   "source": [
    "#Универсальные функции (без тривиальных примеров) Унарные\n",
    "\n",
    "x = np.arange(5)\n",
    "y = np.zeros(10)\n",
    "print(y)\n",
    "np.cos(x, out=y[::2])\n",
    "print(y)\n",
    "\n",
    "print(x)\n",
    "print(np.add.reduce(x))\n",
    "print(np.add.accumulate(x))\n",
    "\n",
    "#Бинарные универсальные функции\n",
    "print(np.multiply.outer(x,x))"
   ],
   "metadata": {
    "collapsed": false,
    "pycharm": {
     "name": "#%%\n"
    }
   }
  },
  {
   "cell_type": "code",
   "execution_count": null,
   "outputs": [],
   "source": [],
   "metadata": {
    "collapsed": false,
    "pycharm": {
     "name": "#%%\n"
    }
   }
  }
 ],
 "metadata": {
  "kernelspec": {
   "display_name": "Python 3",
   "language": "python",
   "name": "python3"
  },
  "language_info": {
   "codemirror_mode": {
    "name": "ipython",
    "version": 2
   },
   "file_extension": ".py",
   "mimetype": "text/x-python",
   "name": "python",
   "nbconvert_exporter": "python",
   "pygments_lexer": "ipython2",
   "version": "2.7.6"
  }
 },
 "nbformat": 4,
 "nbformat_minor": 0
}