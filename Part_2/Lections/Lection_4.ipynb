{
 "cells": [
  {
   "cell_type": "code",
   "execution_count": 2,
   "outputs": [],
   "source": [
    "import numpy as np\n",
    "import pandas as pd"
   ],
   "metadata": {
    "collapsed": false,
    "ExecuteTime": {
     "end_time": "2025-02-03T17:37:01.071706400Z",
     "start_time": "2025-02-03T17:36:59.569196200Z"
    }
   }
  },
  {
   "cell_type": "markdown",
   "source": [
    "## Индексы Pandas\n",
    "\n",
    "Если размерность данных > 2, то используется иерахическая индексация (мультииндекс). В один индекс включается несколько уровней"
   ],
   "metadata": {
    "collapsed": false
   }
  },
  {
   "cell_type": "code",
   "execution_count": 3,
   "outputs": [
    {
     "name": "stdout",
     "output_type": "stream",
     "text": [
      "(city_1, 2020)    201\n",
      "(city_2, 2020)    202\n",
      "(city_3, 2020)    203\n",
      "dtype: int64\n"
     ]
    }
   ],
   "source": [
    "# город и год\n",
    "index = [\n",
    "    ('city_1', 2010),\n",
    "    ('city_1', 2020),\n",
    "    ('city_2', 2010),\n",
    "    ('city_2', 2020),\n",
    "    ('city_3', 2010),\n",
    "    ('city_3', 2020)\n",
    "]\n",
    "\n",
    "population = [\n",
    "    101,\n",
    "    201,\n",
    "    102,\n",
    "    202,\n",
    "    103,\n",
    "    203,\n",
    "]\n",
    "\n",
    "pop = pd.Series(population, index=index)\n",
    "\n",
    "print(pop[[i for i in pop.index if i[1] == 2020]]) # Кустарный способ"
   ],
   "metadata": {
    "collapsed": false,
    "ExecuteTime": {
     "end_time": "2025-02-03T17:37:01.083139300Z",
     "start_time": "2025-02-03T17:37:01.071706400Z"
    }
   }
  },
  {
   "cell_type": "markdown",
   "source": [
    "Необходимо использовать готовое решение - мультииндекс"
   ],
   "metadata": {
    "collapsed": false
   }
  },
  {
   "cell_type": "code",
   "execution_count": 4,
   "outputs": [
    {
     "name": "stdout",
     "output_type": "stream",
     "text": [
      "city_1  2010    101\n",
      "        2020    201\n",
      "city_2  2010    102\n",
      "        2020    202\n",
      "city_3  2010    103\n",
      "        2020    203\n",
      "dtype: int64\n",
      "city_1    201\n",
      "city_2    202\n",
      "city_3    203\n",
      "dtype: int64\n",
      "        2010  2020\n",
      "city_1   101   201\n",
      "city_2   102   202\n",
      "city_3   103   203\n",
      "city_1  2010    101\n",
      "        2020    201\n",
      "city_2  2010    102\n",
      "        2020    202\n",
      "city_3  2010    103\n",
      "        2020    203\n",
      "dtype: int64\n"
     ]
    }
   ],
   "source": [
    "index = pd.MultiIndex.from_tuples(index)\n",
    "pop = pop.reindex(index)\n",
    "print(pop) # В выводе видна иерархия !!!\n",
    "\n",
    "print(pop[:, 2020])\n",
    "\n",
    "#Конвертация мультииндексного Series в DataFrame\n",
    "pop_df = pop.unstack()\n",
    "print(pop_df)\n",
    "\n",
    "#Обратная конвертация\n",
    "print(pop_df.stack())"
   ],
   "metadata": {
    "collapsed": false,
    "ExecuteTime": {
     "end_time": "2025-02-03T17:37:01.302327900Z",
     "start_time": "2025-02-03T17:37:01.279118400Z"
    }
   }
  },
  {
   "cell_type": "code",
   "execution_count": 5,
   "outputs": [
    {
     "name": "stdout",
     "output_type": "stream",
     "text": [
      "(city_1, 2010, 1)     101\n",
      "(city_1, 2010, 2)    1010\n",
      "(city_1, 2020, 1)     201\n",
      "(city_1, 2020, 2)    2010\n",
      "(city_2, 2010, 1)     102\n",
      "(city_2, 2010, 2)    1020\n",
      "(city_2, 2020, 1)     202\n",
      "(city_2, 2020, 2)    2020\n",
      "(city_3, 2010, 1)     103\n",
      "(city_3, 2010, 2)    1030\n",
      "(city_3, 2020, 1)     203\n",
      "(city_3, 2020, 2)    2030\n",
      "dtype: int64\n",
      "city_1  2010  1     101\n",
      "              2    1010\n",
      "        2020  1     201\n",
      "              2    2010\n",
      "city_2  2010  1     102\n",
      "              2    1020\n",
      "        2020  1     202\n",
      "              2    2020\n",
      "city_3  2010  1     103\n",
      "              2    1030\n",
      "        2020  1     203\n",
      "              2    2030\n",
      "dtype: int64\n",
      "city_1  1     101\n",
      "        2    1010\n",
      "city_2  1     102\n",
      "        2    1020\n",
      "city_3  1     103\n",
      "        2    1030\n",
      "dtype: int64\n",
      "city_1  2010    1010\n",
      "        2020    2010\n",
      "city_2  2010    1020\n",
      "        2020    2020\n",
      "city_3  2010    1030\n",
      "        2020    2030\n",
      "dtype: int64\n",
      "               1     2\n",
      "city_1 2010  101  1010\n",
      "       2020  201  2010\n",
      "city_2 2010  102  1020\n",
      "       2020  202  2020\n",
      "city_3 2010  103  1030\n",
      "       2020  203  2030\n"
     ]
    }
   ],
   "source": [
    "index = [\n",
    "    ('city_1', 2010, 1),\n",
    "    ('city_1', 2010, 2),\n",
    "    ('city_1', 2020, 1),\n",
    "    ('city_1', 2020, 2),\n",
    "    ('city_2', 2010, 1),\n",
    "    ('city_2', 2010, 2),\n",
    "    ('city_2', 2020, 1),\n",
    "    ('city_2', 2020, 2),\n",
    "    ('city_3', 2010, 1),\n",
    "    ('city_3', 2010, 2),\n",
    "    ('city_3', 2020, 1),\n",
    "    ('city_3', 2020, 2)\n",
    "]\n",
    "population = [\n",
    "    101,\n",
    "    1010,\n",
    "    201,\n",
    "    2010,\n",
    "    102,\n",
    "    1020,\n",
    "    202,\n",
    "    2020,\n",
    "    103,\n",
    "    1030,\n",
    "    203,\n",
    "    2030\n",
    "]\n",
    "\n",
    "pop = pd.Series(population, index=index)\n",
    "print(pop)\n",
    "\n",
    "index = pd.MultiIndex.from_tuples(index)\n",
    "pop = pop.reindex(index)\n",
    "print(pop)\n",
    "\n",
    "print(pop[:, 2010])\n",
    "print(pop[:, :, 2])\n",
    "\n",
    "print(pop.unstack()) # Преобразование в DataFrame по последнему индексу"
   ],
   "metadata": {
    "collapsed": false,
    "ExecuteTime": {
     "end_time": "2025-02-03T17:37:01.685180800Z",
     "start_time": "2025-02-03T17:37:01.679481800Z"
    }
   }
  },
  {
   "cell_type": "markdown",
   "source": [
    "Детализация"
   ],
   "metadata": {
    "collapsed": false
   }
  },
  {
   "cell_type": "code",
   "execution_count": 8,
   "outputs": [
    {
     "name": "stdout",
     "output_type": "stream",
     "text": [
      "                   total  something\n",
      "(city_1, 2010, 1)    101         10\n",
      "(city_1, 2010, 2)   1010         11\n",
      "(city_1, 2020, 1)    201         12\n",
      "(city_1, 2020, 2)   2010         13\n",
      "(city_2, 2010, 1)    102         14\n",
      "(city_2, 2010, 2)   1020         15\n",
      "(city_2, 2020, 1)    202         16\n",
      "(city_2, 2020, 2)   2020         17\n",
      "(city_3, 2010, 1)    103         18\n",
      "(city_3, 2010, 2)   1030         19\n",
      "(city_3, 2020, 1)    203         20\n",
      "(city_3, 2020, 2)   2030         21\n",
      "(city_1, 2010, 1)    10\n",
      "(city_1, 2010, 2)    11\n",
      "(city_1, 2020, 1)    12\n",
      "(city_1, 2020, 2)    13\n",
      "(city_2, 2010, 1)    14\n",
      "(city_2, 2010, 2)    15\n",
      "(city_2, 2020, 1)    16\n",
      "(city_2, 2020, 2)    17\n",
      "(city_3, 2010, 1)    18\n",
      "(city_3, 2010, 2)    19\n",
      "(city_3, 2020, 1)    20\n",
      "(city_3, 2020, 2)    21\n",
      "Name: something, dtype: int64\n"
     ]
    }
   ],
   "source": [
    "# Можно ввести детализацию\n",
    "index = [\n",
    "    ('city_1', 2010, 1),\n",
    "    ('city_1', 2010, 2),\n",
    "    ('city_1', 2020, 1),\n",
    "    ('city_1', 2020, 2),\n",
    "    ('city_2', 2010, 1),\n",
    "    ('city_2', 2010, 2),\n",
    "    ('city_2', 2020, 1),\n",
    "    ('city_2', 2020, 2),\n",
    "    ('city_3', 2010, 1),\n",
    "    ('city_3', 2010, 2),\n",
    "    ('city_3', 2020, 1),\n",
    "    ('city_3', 2020, 2)\n",
    "]\n",
    "population = [\n",
    "    101,\n",
    "    1010,\n",
    "    201,\n",
    "    2010,\n",
    "    102,\n",
    "    1020,\n",
    "    202,\n",
    "    2020,\n",
    "    103,\n",
    "    1030,\n",
    "    203,\n",
    "    2030\n",
    "]\n",
    "pop = pd.Series(population, index=index)\n",
    "pop_df = pd.DataFrame(\n",
    "    {\n",
    "        'total': pop,\n",
    "        'something':[\n",
    "            10,\n",
    "            11,\n",
    "            12,\n",
    "            13,\n",
    "            14,\n",
    "            15,\n",
    "            16,\n",
    "            17,\n",
    "            18,\n",
    "            19,\n",
    "            20,\n",
    "            21\n",
    "        ]\n",
    "    }\n",
    ")\n",
    "print(pop_df)\n",
    "print(pop_df['something'])"
   ],
   "metadata": {
    "collapsed": false,
    "ExecuteTime": {
     "end_time": "2025-02-03T17:37:40.249566800Z",
     "start_time": "2025-02-03T17:37:40.239635700Z"
    }
   }
  },
  {
   "cell_type": "markdown",
   "source": [
    "## Cпособы создания мультииндексных ключей\n",
    "- список массивов задающих значение на каждом уровне\n",
    "- Из кортежей (см выше)\n",
    "- Декартовое произведение обычных индексов\n",
    "- Описание внутренного представления levels, codes"
   ],
   "metadata": {
    "collapsed": false
   }
  },
  {
   "cell_type": "code",
   "execution_count": 26,
   "outputs": [
    {
     "name": "stdout",
     "output_type": "stream",
     "text": [
      "MultiIndex([('a', 1),\n",
      "            ('a', 2),\n",
      "            ('b', 1),\n",
      "            ('b', 2)],\n",
      "           )\n",
      "MultiIndex([('a', 1),\n",
      "            ('a', 2),\n",
      "            ('b', 1),\n",
      "            ('b', 2)],\n",
      "           )\n",
      "MultiIndex([('a', 1),\n",
      "            ('a', 2),\n",
      "            ('b', 1),\n",
      "            ('b', 2)],\n",
      "           )\n"
     ]
    }
   ],
   "source": [
    "i1 = pd.MultiIndex.from_arrays([\n",
    "    ['a', 'a', 'b', 'b'],\n",
    "    [1, 2, 1, 2]\n",
    "])\n",
    "print(i1)\n",
    "\n",
    "i3 = pd.MultiIndex.from_product([\n",
    "    ['a', 'b'], [1, 2]\n",
    "])\n",
    "print(i3)\n",
    "\n",
    "i4 = pd.MultiIndex(\n",
    "    levels = [['a', 'b'], [1,2]],\n",
    "    codes = [\n",
    "        [0, 0, 1, 1], # a a b b\n",
    "        [0, 1, 0, 1], # 1 2 1 2\n",
    "    ]\n",
    ")\n",
    "print(i4)"
   ],
   "metadata": {
    "collapsed": false,
    "ExecuteTime": {
     "end_time": "2025-02-03T18:38:57.129880700Z",
     "start_time": "2025-02-03T18:38:57.122762300Z"
    }
   }
  },
  {
   "cell_type": "code",
   "execution_count": 27,
   "outputs": [
    {
     "name": "stdout",
     "output_type": "stream",
     "text": [
      "city_1  2010    100\n",
      "        2020    101\n",
      "city_2  2010    200\n",
      "        2020    201\n",
      "dtype: int64\n",
      "city    year\n",
      "city_1  2010    100\n",
      "        2020    101\n",
      "city_2  2010    200\n",
      "        2020    201\n",
      "dtype: int64\n"
     ]
    }
   ],
   "source": [
    "# Уровням можно задать названия\n",
    "data = {\n",
    "    ('city_1', 2010) : 100,\n",
    "    ('city_1', 2020) : 101,\n",
    "    ('city_2', 2010) : 200,\n",
    "    ('city_2', 2020) : 201,\n",
    "}\n",
    "\n",
    "s = pd.Series(data)\n",
    "print(s)\n",
    "s.index.names = ['city', 'year']\n",
    "print(s)"
   ],
   "metadata": {
    "collapsed": false,
    "ExecuteTime": {
     "end_time": "2025-02-03T18:44:13.809304400Z",
     "start_time": "2025-02-03T18:44:13.746514400Z"
    }
   }
  },
  {
   "cell_type": "code",
   "execution_count": 32,
   "outputs": [
    {
     "name": "stdout",
     "output_type": "stream",
     "text": [
      "worker       person_1            person_2            person_3          \n",
      "job             job_1     job_2     job_1     job_2     job_1     job_2\n",
      "city   year                                                            \n",
      "city_1 2010  0.511822  0.950464  0.144160  0.948649  0.311831  0.423326\n",
      "       2020  0.827703  0.409199  0.549594  0.027559  0.753513  0.538143\n",
      "city_2 2010  0.329732  0.788429  0.303195  0.453498  0.134042  0.403113\n",
      "       2020  0.203455  0.262313  0.750365  0.280409  0.485191  0.980737\n"
     ]
    }
   ],
   "source": [
    "#Мультииндексы для столбцов\n",
    "index = pd.MultiIndex.from_product(\n",
    "    [\n",
    "        ['city_1', 'city_2'],\n",
    "        [2010, 2020]\n",
    "    ],\n",
    "    names = ['city', 'year']\n",
    ")\n",
    "\n",
    "columns = pd.MultiIndex.from_product(\n",
    "    [\n",
    "        ['person_1', 'person_2', 'person_3'],\n",
    "        ['job_1', 'job_2']\n",
    "    ],\n",
    "    names=['worker', 'job']\n",
    ")\n",
    "\n",
    "rng = np.random.default_rng(1)\n",
    "\n",
    "data = rng.random((4, 6))\n",
    "\n",
    "data_df = pd.DataFrame(data, index=index, columns=columns)\n",
    "print(data_df)"
   ],
   "metadata": {
    "collapsed": false,
    "ExecuteTime": {
     "end_time": "2025-02-03T19:36:22.440294Z",
     "start_time": "2025-02-03T19:36:22.414571Z"
    }
   }
  },
  {
   "cell_type": "code",
   "execution_count": 34,
   "outputs": [
    {
     "name": "stdout",
     "output_type": "stream",
     "text": [
      "city_1  2010    100\n",
      "        2020    101\n",
      "city_2  2010    200\n",
      "        2020    201\n",
      "city_3  2010    300\n",
      "        2020    301\n",
      "dtype: int64\n",
      "100\n",
      "year\n",
      "2010    100\n",
      "2020    101\n",
      "dtype: int64\n",
      "city\n",
      "city_1    100\n",
      "city_2    200\n",
      "city_3    300\n",
      "dtype: int64\n",
      "city    year\n",
      "city_1  2010    100\n",
      "        2020    101\n",
      "city_2  2010    200\n",
      "        2020    201\n",
      "dtype: int64\n",
      "city    year\n",
      "city_2  2020    201\n",
      "city_3  2010    300\n",
      "        2020    301\n",
      "dtype: int64\n"
     ]
    }
   ],
   "source": [
    "# Срезы Series\n",
    "data = {\n",
    "    ('city_1', 2010) : 100,\n",
    "    ('city_1', 2020) : 101,\n",
    "    ('city_2', 2010) : 200,\n",
    "    ('city_2', 2020) : 201,\n",
    "    ('city_3', 2010) : 300,\n",
    "    ('city_3', 2020) : 301,\n",
    "}\n",
    "\n",
    "s = pd.Series(data)\n",
    "print(s)\n",
    "s.index.names = ['city', 'year']\n",
    "print(s['city_1', 2010])\n",
    "print(s['city_1'])\n",
    "print(s.loc[:, 2010])\n",
    "print(s.loc['city_1':'city_2'])\n",
    "print(s[s > 200])"
   ],
   "metadata": {
    "collapsed": false,
    "ExecuteTime": {
     "end_time": "2025-02-03T20:17:42.370967200Z",
     "start_time": "2025-02-03T20:17:42.351834300Z"
    }
   }
  },
  {
   "cell_type": "code",
   "execution_count": 38,
   "outputs": [
    {
     "name": "stdout",
     "output_type": "stream",
     "text": [
      "MultiIndex([('a', 1),\n",
      "            ('a', 2),\n",
      "            ('b', 1),\n",
      "            ('b', 2),\n",
      "            ('c', 1),\n",
      "            ('c', 2)],\n",
      "           )\n",
      "a  1    0.592941\n",
      "   2    0.260097\n",
      "c  1    0.839882\n",
      "   2    0.509496\n",
      "d  1    0.510889\n",
      "   2    0.753030\n",
      "dtype: float64\n",
      "a  1    0.592941\n",
      "   2    0.260097\n",
      "c  1    0.839882\n",
      "   2    0.509496\n",
      "d  1    0.510889\n",
      "   2    0.753030\n",
      "dtype: float64\n",
      "a  1    0.592941\n",
      "   2    0.260097\n",
      "dtype: float64\n"
     ]
    }
   ],
   "source": [
    "# Перегруппировка мультииндексов\n",
    "\n",
    "index = pd.MultiIndex.from_product([\n",
    "    ['a', 'c', 'd'],\n",
    "    [1, 2]\n",
    "])\n",
    "print(i3)\n",
    "data = pd.Series(rng.random(6), index=index)\n",
    "print(data)\n",
    "\n",
    "# print(data['a':'b']) - не работает\n",
    "data = data.sort_index()\n",
    "print(data)\n",
    "print(data['a':'b'])"
   ],
   "metadata": {
    "collapsed": false,
    "ExecuteTime": {
     "end_time": "2025-02-03T20:36:06.867905900Z",
     "start_time": "2025-02-03T20:36:06.859517900Z"
    }
   }
  },
  {
   "cell_type": "code",
   "execution_count": 40,
   "outputs": [
    {
     "name": "stdout",
     "output_type": "stream",
     "text": [
      "               1     2\n",
      "city_1 2010  101  1010\n",
      "       2020  201  2010\n",
      "city_2 2010  102  1020\n",
      "       2020  202  2020\n",
      "city_3 2010  103  1030\n",
      "       2020  203  2030 \n",
      "\n",
      "        city_1  city_2  city_3\n",
      "2010 1     101     102     103\n",
      "     2    1010    1020    1030\n",
      "2020 1     201     202     203\n",
      "     2    2010    2020    2030 \n",
      "\n",
      "          2010  2020\n",
      "city_1 1   101   201\n",
      "       2  1010  2010\n",
      "city_2 1   102   202\n",
      "       2  1020  2020\n",
      "city_3 1   103   203\n",
      "       2  1030  2030 \n",
      "\n",
      "               1     2\n",
      "city_1 2010  101  1010\n",
      "       2020  201  2010\n",
      "city_2 2010  102  1020\n",
      "       2020  202  2020\n",
      "city_3 2010  103  1030\n",
      "       2020  203  2030 \n",
      "\n"
     ]
    }
   ],
   "source": [
    "index = [\n",
    "    ('city_1', 2010, 1),\n",
    "    ('city_1', 2010, 2),\n",
    "    ('city_1', 2020, 1),\n",
    "    ('city_1', 2020, 2),\n",
    "    ('city_2', 2010, 1),\n",
    "    ('city_2', 2010, 2),\n",
    "    ('city_2', 2020, 1),\n",
    "    ('city_2', 2020, 2),\n",
    "    ('city_3', 2010, 1),\n",
    "    ('city_3', 2010, 2),\n",
    "    ('city_3', 2020, 1),\n",
    "    ('city_3', 2020, 2)\n",
    "]\n",
    "population = [\n",
    "    101,\n",
    "    1010,\n",
    "    201,\n",
    "    2010,\n",
    "    102,\n",
    "    1020,\n",
    "    202,\n",
    "    2020,\n",
    "    103,\n",
    "    1030,\n",
    "    203,\n",
    "    2030\n",
    "]\n",
    "\n",
    "pop = pd.Series(population, index=index)\n",
    "\n",
    "i = pd.MultiIndex.from_tuples(index)\n",
    "pop = pop.reindex(i)\n",
    "print(pop.unstack(), '\\n')\n",
    "print(pop.unstack(level=0), '\\n')\n",
    "print(pop.unstack(level=1), '\\n')\n",
    "print(pop.unstack(level=2), '\\n')"
   ],
   "metadata": {
    "collapsed": false,
    "ExecuteTime": {
     "end_time": "2025-02-03T20:39:51.283790Z",
     "start_time": "2025-02-03T20:39:51.263680600Z"
    }
   }
  },
  {
   "cell_type": "code",
   "execution_count": 45,
   "outputs": [
    {
     "name": "stdout",
     "output_type": "stream",
     "text": [
      "1    a\n",
      "2    b\n",
      "3    c\n",
      "4    d\n",
      "5    e\n",
      "6    f\n",
      "dtype: object\n",
      "1    a\n",
      "2    b\n",
      "3    c\n",
      "1    d\n",
      "2    e\n",
      "6    f\n",
      "dtype: object\n",
      "1    a\n",
      "2    b\n",
      "3    c\n",
      "1    d\n",
      "2    e\n",
      "6    f\n",
      "dtype: object\n",
      "0    a\n",
      "1    b\n",
      "2    c\n",
      "3    d\n",
      "4    e\n",
      "5    f\n",
      "dtype: object\n",
      "x  1    a\n",
      "   2    b\n",
      "   3    c\n",
      "y  1    d\n",
      "   2    e\n",
      "   6    f\n",
      "dtype: object\n"
     ]
    }
   ],
   "source": [
    "# Конкатенация в Pandas - concat\n",
    "\n",
    "serl1 = pd.Series(['a', 'b', 'c'], index=[1, 2, 3])\n",
    "serl2 = pd.Series(['d', 'e', 'f'], index=[4, 5, 6])\n",
    "\n",
    "print(pd.concat([serl1, serl2]))\n",
    "serl2 = pd.Series(['d', 'e', 'f'], index=[1, 2, 6])\n",
    "print(pd.concat([serl1, serl2]))\n",
    "print(pd.concat([serl1, serl2], verify_integrity=False))\n",
    "print(pd.concat([serl1, serl2], ignore_index=True))\n",
    "print(pd.concat([serl1, serl2], keys=['x', 'y']))"
   ],
   "metadata": {
    "collapsed": false,
    "ExecuteTime": {
     "end_time": "2025-02-03T20:49:06.709976200Z",
     "start_time": "2025-02-03T20:49:06.704491Z"
    }
   }
  },
  {
   "cell_type": "code",
   "execution_count": null,
   "outputs": [],
   "source": [],
   "metadata": {
    "collapsed": false
   }
  }
 ],
 "metadata": {
  "kernelspec": {
   "display_name": "Python 3",
   "language": "python",
   "name": "python3"
  },
  "language_info": {
   "codemirror_mode": {
    "name": "ipython",
    "version": 2
   },
   "file_extension": ".py",
   "mimetype": "text/x-python",
   "name": "python",
   "nbconvert_exporter": "python",
   "pygments_lexer": "ipython2",
   "version": "2.7.6"
  }
 },
 "nbformat": 4,
 "nbformat_minor": 0
}
