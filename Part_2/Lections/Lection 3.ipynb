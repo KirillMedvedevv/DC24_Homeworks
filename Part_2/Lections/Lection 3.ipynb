{
 "cells": [
  {
   "cell_type": "code",
   "execution_count": 2,
   "metadata": {
    "collapsed": true,
    "ExecuteTime": {
     "end_time": "2025-01-27T14:37:10.853935500Z",
     "start_time": "2025-01-27T14:37:10.380018200Z"
    }
   },
   "outputs": [],
   "source": [
    "import numpy as np\n",
    "import pandas as pd"
   ]
  },
  {
   "cell_type": "markdown",
   "source": [
    "Строки и симолы индексируются метками а не только числовыми значениями\n",
    "\n",
    "Основные типы данных\n",
    "\n",
    "- Series\n",
    "- DataFrame\n",
    "- Index"
   ],
   "metadata": {
    "collapsed": false
   }
  },
  {
   "cell_type": "markdown",
   "source": [
    "## Series\n",
    "\n",
    "Для создания можно использовать\n",
    "- Списки Python\n",
    "- Массивы Numpy\n",
    "- Словари\n",
    "- Скалярные значения"
   ],
   "metadata": {
    "collapsed": false
   }
  },
  {
   "cell_type": "code",
   "execution_count": 14,
   "outputs": [
    {
     "name": "stdout",
     "output_type": "stream",
     "text": [
      "0    0.25\n",
      "1    0.50\n",
      "2    0.75\n",
      "3    1.00\n",
      "dtype: float64\n",
      "<class 'pandas.core.series.Series'> \n",
      "\n",
      "[0.25 0.5  0.75 1.  ]\n",
      "<class 'numpy.ndarray'> \n",
      "\n",
      "RangeIndex(start=0, stop=4, step=1)\n",
      "<class 'pandas.core.indexes.range.RangeIndex'> \n",
      "\n",
      "0.25\n",
      "1    0.50\n",
      "2    0.75\n",
      "dtype: float64 \n",
      "\n",
      "0.25\n",
      "b    0.50\n",
      "c    0.75\n",
      "d    1.00\n",
      "dtype: float64\n",
      "<class 'pandas.core.indexes.base.Index'> \n",
      "\n",
      "10    0.50\n",
      "7     0.75\n",
      "d     1.00\n",
      "dtype: float64\n",
      "city_1    1000\n",
      "city_2    1002\n",
      "city_3    1003\n",
      "city_4    1004\n",
      "dtype: int64\n"
     ]
    }
   ],
   "source": [
    "data = pd.Series([0.25, 0.5, 0.75, 1.0])\n",
    "print(data)\n",
    "print(type(data), \"\\n\")\n",
    "\n",
    "print(data.values)\n",
    "print(type(data.values), \"\\n\")\n",
    "\n",
    "print(data.index)\n",
    "print(type(data.index), '\\n')\n",
    "\n",
    "#Обращения\n",
    "print(data[0])\n",
    "print(data[1:3], \"\\n\")\n",
    "\n",
    "#Явное определение индексов\n",
    "data = pd.Series([0.25, 0.5, 0.75, 1.0], index=['a', 'b', 'c', 'd'])\n",
    "print(data['a'])\n",
    "print(data['b':'d'])\n",
    "print(type(data.index), \"\\n\")\n",
    "\n",
    "data = pd.Series([0.25, 0.5, 0.75, 1.0], index=[1, 10, 7, 'd']) #Разный тип индексов\n",
    "print(data[10:\"d\"])\n",
    "\n",
    "popuation_dict = {\n",
    "    'city_1': 1000,\n",
    "    'city_2': 1002,\n",
    "    'city_3': 1003,\n",
    "    'city_4': 1004,\n",
    "    'city_5': 1005\n",
    "}\n",
    "\n",
    "popuation = pd.Series(popuation_dict)\n",
    "\n",
    "print(popuation['city_1':'city_4'])"
   ],
   "metadata": {
    "collapsed": false,
    "ExecuteTime": {
     "end_time": "2025-01-27T14:46:38.828377900Z",
     "start_time": "2025-01-27T14:46:38.818489Z"
    }
   }
  },
  {
   "cell_type": "markdown",
   "source": [
    "## DataFrame\n",
    "\n",
    "Двумерный массив с явно определённыйми индексами\n",
    "Можно смотреть как на упорядоченной множество несколько объектов Series\n",
    "\n",
    "Могут быть созданы\n",
    "- объекты Series\n",
    "- Списки словарей\n",
    "- словари объектов Series\n",
    "- двумерный массив NumPy\n",
    "- Структурированный массив NumPy"
   ],
   "metadata": {
    "collapsed": false
   }
  },
  {
   "cell_type": "code",
   "execution_count": 16,
   "outputs": [
    {
     "name": "stdout",
     "output_type": "stream",
     "text": [
      "        population1  area1\n",
      "city_1         1000    100\n",
      "city_2         1002    200\n",
      "city_3         1003    300\n",
      "city_4         1004    400\n",
      "city_5         1005    500\n",
      "[[1000  100]\n",
      " [1002  200]\n",
      " [1003  300]\n",
      " [1004  400]\n",
      " [1005  500]]\n",
      "Index(['city_1', 'city_2', 'city_3', 'city_4', 'city_5'], dtype='object')\n",
      "Index(['population1', 'area1'], dtype='object')\n",
      "<class 'numpy.ndarray'>\n",
      "<class 'pandas.core.indexes.base.Index'>\n",
      "<class 'pandas.core.indexes.base.Index'>\n"
     ]
    }
   ],
   "source": [
    "# Cогласование по ключам\n",
    "population_dict = {\n",
    "    'city_1': 1000,\n",
    "    'city_2': 1002,\n",
    "    'city_3': 1003,\n",
    "    'city_4': 1004,\n",
    "    'city_5': 1005\n",
    "}\n",
    "area_dict = {\n",
    "    'city_1': 100,\n",
    "    'city_2': 200,\n",
    "    'city_3': 300,\n",
    "    'city_4': 400,\n",
    "    'city_5': 500\n",
    "}\n",
    "\n",
    "population = pd.Series(population_dict)\n",
    "area = pd.Series(area_dict)\n",
    "\n",
    "states = pd.DataFrame({\n",
    "    \"population1\":population,\n",
    "    \"area1\": area\n",
    "})\n",
    "\n",
    "print(states)\n",
    "print(states.values)\n",
    "print(states.index)\n",
    "print(states.columns)\n",
    "print(type(states.values))\n",
    "print(type(states.index))\n",
    "print(type(states.columns))"
   ],
   "metadata": {
    "collapsed": false,
    "ExecuteTime": {
     "end_time": "2025-01-27T14:58:43.872685700Z",
     "start_time": "2025-01-27T14:58:43.860516600Z"
    }
   }
  },
  {
   "cell_type": "markdown",
   "source": [
    "## Index\n",
    "\n",
    "Это способ организации ссылки на данный объектов Series и DataFrame\n",
    "\n",
    "Это мультимножество с наличием повторяющихся значений\n",
    "\n",
    "Неизменяемый объект и следует соглашениям объекта Set"
   ],
   "metadata": {
    "collapsed": false
   }
  },
  {
   "cell_type": "code",
   "execution_count": 27,
   "outputs": [
    {
     "name": "stdout",
     "output_type": "stream",
     "text": [
      "Index([2, 5, 11], dtype='int64')\n",
      "Index([2, 3, 4, 5], dtype='int64')\n",
      "True\n",
      "False\n",
      "Index(['a', 'b', 'c', 'd'], dtype='object')\n",
      "[('a', 0.25), ('b', 0.5), ('c', 0.75), ('d', 1.0)]\n",
      "a     100.00\n",
      "b       0.50\n",
      "c       0.75\n",
      "d       1.00\n",
      "z    1000.00\n",
      "dtype: float64\n",
      "a    0.25\n",
      "b    0.50\n",
      "c    0.75\n",
      "d    1.00\n",
      "dtype: float64\n",
      "a    0.25\n",
      "b    0.50\n",
      "c    0.75\n",
      "dtype: float64\n",
      "a    0.25\n",
      "b    0.50\n",
      "dtype: float64\n",
      "c    0.75\n",
      "dtype: float64\n",
      "a    0.25\n",
      "d    1.00\n",
      "dtype: float64\n"
     ]
    }
   ],
   "source": [
    "ind = pd.Index([2, 3, 5, 7, 11])\n",
    "print(ind[::2])\n",
    "\n",
    "indA = pd.Index([1, 2, 3, 4, 5])\n",
    "indB = pd.Index([2, 3, 4, 5, 6])\n",
    "\n",
    "print(indA.intersection(indB))\n",
    "\n",
    "#Выборка данных из Series\n",
    "\n",
    "data = pd.Series([0.25, 0.5, 0.75, 1.0], index=['a', 'b', 'c', 'd'])\n",
    "\n",
    "print('a' in data)\n",
    "print('z' in data)\n",
    "print(data.keys())\n",
    "print(list(data.items())) #Похоже на словарь\n",
    "\n",
    "data['z'] = 1000\n",
    "data['a'] = 100\n",
    "print(data)\n",
    "\n",
    "data = pd.Series([0.25, 0.5, 0.75, 1.0], index=['a', 'b', 'c', 'd'])\n",
    "print(data)\n",
    "\n",
    "print(data['a':'c'])\n",
    "print(data[0:2])\n",
    "print(data[(data > 0.5) & (data < 1)])\n",
    "print(data[['a', 'd']])"
   ],
   "metadata": {
    "collapsed": false,
    "ExecuteTime": {
     "end_time": "2025-01-27T17:19:02.113385Z",
     "start_time": "2025-01-27T17:19:02.104601100Z"
    }
   }
  },
  {
   "cell_type": "code",
   "execution_count": 30,
   "outputs": [
    {
     "name": "stdout",
     "output_type": "stream",
     "text": [
      "0.25\n",
      "0.25\n",
      "0.5\n"
     ]
    }
   ],
   "source": [
    "#Aтрибуты и индексаторы\n",
    "data = pd.Series([0.25, 0.5, 0.75, 1.0], index=[1, 3, 10, 15])\n",
    "print(data[1])\n",
    "print(data.loc[1])\n",
    "print(data.iloc[1])"
   ],
   "metadata": {
    "collapsed": false,
    "ExecuteTime": {
     "end_time": "2025-01-27T17:21:50.881113600Z",
     "start_time": "2025-01-27T17:21:50.871146600Z"
    }
   }
  },
  {
   "cell_type": "code",
   "execution_count": 33,
   "outputs": [
    {
     "name": "stdout",
     "output_type": "stream",
     "text": [
      "city_1    100\n",
      "city_2    200\n",
      "city_3    300\n",
      "city_4    400\n",
      "city_5    500\n",
      "Name: area1, dtype: int64\n",
      "city_1    100\n",
      "city_2    200\n",
      "city_3    300\n",
      "city_4    400\n",
      "city_5    500\n",
      "Name: area1, dtype: int64\n",
      "        population1  area1  new      newl\n",
      "city_1         1000    100  100  0.100000\n",
      "city_2         1002    200  200  0.199601\n",
      "city_3         1003    300  300  0.299103\n",
      "city_4         1004    400  400  0.398406\n",
      "city_5         1005    500  500  0.497512\n"
     ]
    }
   ],
   "source": [
    "#Выборка данных из Датафрейма\n",
    "population_dict = {\n",
    "    'city_1': 1000,\n",
    "    'city_2': 1002,\n",
    "    'city_3': 1003,\n",
    "    'city_4': 1004,\n",
    "    'city_5': 1005\n",
    "}\n",
    "area_dict = {\n",
    "    'city_1': 100,\n",
    "    'city_2': 200,\n",
    "    'city_3': 300,\n",
    "    'city_4': 400,\n",
    "    'city_5': 500\n",
    "}\n",
    "\n",
    "population = pd.Series(population_dict)\n",
    "area = pd.Series(area_dict)\n",
    "\n",
    "data = pd.DataFrame({\n",
    "    \"population1\":population,\n",
    "    \"area1\": area\n",
    "})\n",
    "\n",
    "print(data['area1'])\n",
    "print(data.area1) # Эти конструкции в общем случаее не равны\n",
    "\n",
    "data['new'] = data['area1']\n",
    "#Универсальные функции работают\n",
    "data['newl'] = data['area1']/data['population1']\n",
    "print(data)"
   ],
   "metadata": {
    "collapsed": false,
    "ExecuteTime": {
     "end_time": "2025-01-27T17:41:34.261363400Z",
     "start_time": "2025-01-27T17:41:34.252882Z"
    }
   }
  },
  {
   "cell_type": "code",
   "execution_count": 44,
   "outputs": [
    {
     "name": "stdout",
     "output_type": "stream",
     "text": [
      "        population1  area1\n",
      "city_1         1000    100\n",
      "city_2         1002    200\n",
      "city_3         1003    300\n",
      "city_4         1004    400\n",
      "city_5         1005    500\n",
      "[1000  100]\n",
      "             city_1  city_2  city_3  city_4  city_5\n",
      "population1    1000    1002    1003    1004    1005\n",
      "area1           100     200     300     400     500\n",
      "        area1\n",
      "city_1    100\n",
      "city_2    200\n",
      "city_3    300\n",
      "        population1  area1\n",
      "city_1         1000    100\n",
      "city_2         1002    200\n",
      "city_3         1003    300\n",
      "city_4         1004    400\n",
      "        population1  area1\n",
      "city_1         1000    100\n",
      "city_2         1002    200\n",
      "city_3         1003    300\n",
      "city_4         1004    400\n",
      "city_5         1005    500\n"
     ]
    },
    {
     "ename": "IndexError",
     "evalue": "iloc cannot enlarge its target object",
     "output_type": "error",
     "traceback": [
      "\u001B[1;31m---------------------------------------------------------------------------\u001B[0m",
      "\u001B[1;31mIndexError\u001B[0m                                Traceback (most recent call last)",
      "Cell \u001B[1;32mIn[44], line 17\u001B[0m\n\u001B[0;32m     14\u001B[0m \u001B[38;5;28mprint\u001B[39m(data\u001B[38;5;241m.\u001B[39mloc[:\u001B[38;5;124m'\u001B[39m\u001B[38;5;124mcity_4\u001B[39m\u001B[38;5;124m'\u001B[39m, :])\n\u001B[0;32m     15\u001B[0m \u001B[38;5;28mprint\u001B[39m(data\u001B[38;5;241m.\u001B[39mloc[data[\u001B[38;5;124m'\u001B[39m\u001B[38;5;124mpopulation1\u001B[39m\u001B[38;5;124m'\u001B[39m] \u001B[38;5;241m>\u001B[39m \u001B[38;5;241m102\u001B[39m])\n\u001B[1;32m---> 17\u001B[0m \u001B[43mdata\u001B[49m\u001B[38;5;241;43m.\u001B[39;49m\u001B[43miloc\u001B[49m\u001B[43m[\u001B[49m\u001B[38;5;241;43m0\u001B[39;49m\u001B[43m,\u001B[49m\u001B[38;5;241;43m2\u001B[39;49m\u001B[43m]\u001B[49m \u001B[38;5;241m=\u001B[39m \u001B[38;5;241m999\u001B[39m\n",
      "File \u001B[1;32m~\\AppData\\Local\\Programs\\Python\\Python312\\Lib\\site-packages\\pandas\\core\\indexing.py:908\u001B[0m, in \u001B[0;36m_LocationIndexer.__setitem__\u001B[1;34m(self, key, value)\u001B[0m\n\u001B[0;32m    906\u001B[0m     key \u001B[38;5;241m=\u001B[39m \u001B[38;5;28mself\u001B[39m\u001B[38;5;241m.\u001B[39m_check_deprecated_callable_usage(key, maybe_callable)\n\u001B[0;32m    907\u001B[0m indexer \u001B[38;5;241m=\u001B[39m \u001B[38;5;28mself\u001B[39m\u001B[38;5;241m.\u001B[39m_get_setitem_indexer(key)\n\u001B[1;32m--> 908\u001B[0m \u001B[38;5;28;43mself\u001B[39;49m\u001B[38;5;241;43m.\u001B[39;49m\u001B[43m_has_valid_setitem_indexer\u001B[49m\u001B[43m(\u001B[49m\u001B[43mkey\u001B[49m\u001B[43m)\u001B[49m\n\u001B[0;32m    910\u001B[0m iloc \u001B[38;5;241m=\u001B[39m \u001B[38;5;28mself\u001B[39m \u001B[38;5;28;01mif\u001B[39;00m \u001B[38;5;28mself\u001B[39m\u001B[38;5;241m.\u001B[39mname \u001B[38;5;241m==\u001B[39m \u001B[38;5;124m\"\u001B[39m\u001B[38;5;124miloc\u001B[39m\u001B[38;5;124m\"\u001B[39m \u001B[38;5;28;01melse\u001B[39;00m \u001B[38;5;28mself\u001B[39m\u001B[38;5;241m.\u001B[39mobj\u001B[38;5;241m.\u001B[39miloc\n\u001B[0;32m    911\u001B[0m iloc\u001B[38;5;241m.\u001B[39m_setitem_with_indexer(indexer, value, \u001B[38;5;28mself\u001B[39m\u001B[38;5;241m.\u001B[39mname)\n",
      "File \u001B[1;32m~\\AppData\\Local\\Programs\\Python\\Python312\\Lib\\site-packages\\pandas\\core\\indexing.py:1646\u001B[0m, in \u001B[0;36m_iLocIndexer._has_valid_setitem_indexer\u001B[1;34m(self, indexer)\u001B[0m\n\u001B[0;32m   1644\u001B[0m \u001B[38;5;28;01melif\u001B[39;00m is_integer(i):\n\u001B[0;32m   1645\u001B[0m     \u001B[38;5;28;01mif\u001B[39;00m i \u001B[38;5;241m>\u001B[39m\u001B[38;5;241m=\u001B[39m \u001B[38;5;28mlen\u001B[39m(ax):\n\u001B[1;32m-> 1646\u001B[0m         \u001B[38;5;28;01mraise\u001B[39;00m \u001B[38;5;167;01mIndexError\u001B[39;00m(\u001B[38;5;124m\"\u001B[39m\u001B[38;5;124miloc cannot enlarge its target object\u001B[39m\u001B[38;5;124m\"\u001B[39m)\n\u001B[0;32m   1647\u001B[0m \u001B[38;5;28;01melif\u001B[39;00m \u001B[38;5;28misinstance\u001B[39m(i, \u001B[38;5;28mdict\u001B[39m):\n\u001B[0;32m   1648\u001B[0m     \u001B[38;5;28;01mraise\u001B[39;00m \u001B[38;5;167;01mIndexError\u001B[39;00m(\u001B[38;5;124m\"\u001B[39m\u001B[38;5;124miloc cannot enlarge its target object\u001B[39m\u001B[38;5;124m\"\u001B[39m)\n",
      "\u001B[1;31mIndexError\u001B[0m: iloc cannot enlarge its target object"
     ]
    }
   ],
   "source": [
    "#Двумерный NumPy массив\n",
    "data = pd.DataFrame({\n",
    "    \"population1\":population,\n",
    "    \"area1\": area\n",
    "})\n",
    "\n",
    "print(data)\n",
    "print(data.values[0]) #Обращение к строке\n",
    "print(data.T)\n",
    "\n",
    "#Атрибуты-индексаторы\n",
    "\n",
    "print(data.iloc[:3, 1:2])\n",
    "print(data.loc[:'city_4', :])\n",
    "print(data.loc[data['population1'] > 102])\n",
    "\n",
    "data.iloc[0,2] = 999"
   ],
   "metadata": {
    "collapsed": false,
    "ExecuteTime": {
     "end_time": "2025-01-27T17:58:48.277194900Z",
     "start_time": "2025-01-27T17:58:48.242085200Z"
    }
   }
  },
  {
   "cell_type": "code",
   "execution_count": 46,
   "outputs": [
    {
     "name": "stdout",
     "output_type": "stream",
     "text": [
      "0    8\n",
      "1    5\n",
      "2    7\n",
      "3    8\n",
      "dtype: int64\n",
      "0    2980.957987\n",
      "1     148.413159\n",
      "2    1096.633158\n",
      "3    2980.957987\n",
      "dtype: float64\n"
     ]
    }
   ],
   "source": [
    "rng = np.random.default_rng()\n",
    "s = pd.Series(rng.integers(0, 10,4))\n",
    "print(s)\n",
    "print(np.exp(s))"
   ],
   "metadata": {
    "collapsed": false,
    "ExecuteTime": {
     "end_time": "2025-01-27T18:11:35.961559900Z",
     "start_time": "2025-01-27T18:11:35.951423700Z"
    }
   }
  },
  {
   "cell_type": "code",
   "execution_count": 50,
   "outputs": [
    {
     "name": "stdout",
     "output_type": "stream",
     "text": [
      "         area1  population1\n",
      "city_1   100.0       1000.0\n",
      "city_2   200.0       1002.0\n",
      "city_3   300.0       1003.0\n",
      "city_4     NaN       1004.0\n",
      "city_42  400.0          NaN\n",
      "city_5   500.0          NaN\n",
      "city_52    NaN       1005.0\n",
      "     a     b   c\n",
      "0  2.0  11.0 NaN\n",
      "1  6.0   4.0 NaN\n",
      "2  NaN   NaN NaN\n"
     ]
    }
   ],
   "source": [
    "#Объединение серий и NaN значения\n",
    "population_dict = {\n",
    "    'city_1': 1000,\n",
    "    'city_2': 1002,\n",
    "    'city_3': 1003,\n",
    "    'city_4': 1004,\n",
    "    'city_52': 1005\n",
    "}\n",
    "area_dict = {\n",
    "    'city_1': 100,\n",
    "    'city_2': 200,\n",
    "    'city_3': 300,\n",
    "    'city_42': 400,\n",
    "    'city_5': 500\n",
    "}\n",
    "population = pd.Series(population_dict)\n",
    "area = pd.Series(area_dict)\n",
    "data = pd.DataFrame({\"area1\":area, \"population1\":population})\n",
    "print(data)\n",
    "\n",
    "#Объединение фреймов серий и NaN значения\n",
    "\n",
    "dfA = pd.DataFrame(rng.integers(0,10, (2,2)), columns=['a', 'b'])\n",
    "dfB = pd.DataFrame(rng.integers(0,10, (3,3)), columns=['a', 'b', 'c'])\n",
    "\n",
    "print(dfA + dfB)"
   ],
   "metadata": {
    "collapsed": false,
    "ExecuteTime": {
     "end_time": "2025-01-27T18:23:08.747066400Z",
     "start_time": "2025-01-27T18:23:08.728768800Z"
    }
   }
  },
  {
   "cell_type": "code",
   "execution_count": 55,
   "outputs": [
    {
     "name": "stdout",
     "output_type": "stream",
     "text": [
      "[[4 5 7 9]\n",
      " [0 1 8 9]\n",
      " [2 3 8 4]]\n",
      "[[ 0  0  0  0]\n",
      " [-4 -4  1  0]\n",
      " [-2 -2  1 -5]]\n",
      "   a  b  c  d\n",
      "0  4  5  7  9\n",
      "1  0  1  8  9\n",
      "2  2  3  8  4\n",
      "a    4\n",
      "b    5\n",
      "c    7\n",
      "d    9\n",
      "Name: 0, dtype: int64 \n",
      "\n",
      "   a  b  c  d\n",
      "0  0  0  0  0\n",
      "1 -4 -4  1  0\n",
      "2 -2 -2  1 -5 \n",
      "\n",
      "a    4\n",
      "c    7\n",
      "Name: 0, dtype: int64\n",
      "     a   b    c   d\n",
      "0  0.0 NaN  0.0 NaN\n",
      "1 -4.0 NaN  1.0 NaN\n",
      "2 -2.0 NaN  1.0 NaN\n"
     ]
    }
   ],
   "source": [
    "rng = np.random.default_rng(1)\n",
    "A = rng.integers(0, 10, (3,4))\n",
    "print(A)\n",
    "print(A - A[0])\n",
    "\n",
    "df = pd.DataFrame(A, columns=['a', 'b', 'c', 'd'])\n",
    "print(df)\n",
    "print(df.iloc[0], \"\\n\")\n",
    "print(df - df.iloc[0], '\\n')\n",
    "print(df.iloc[0, ::2])\n",
    "print(df - df.iloc[0, ::2])"
   ],
   "metadata": {
    "collapsed": false,
    "ExecuteTime": {
     "end_time": "2025-01-27T18:47:33.056394600Z",
     "start_time": "2025-01-27T18:47:33.035158200Z"
    }
   }
  },
  {
   "cell_type": "code",
   "execution_count": 58,
   "outputs": [
    {
     "name": "stdout",
     "output_type": "stream",
     "text": [
      "nan\n",
      "4.0\n"
     ]
    }
   ],
   "source": [
    "#NA-значения: NaN, null, -99999\n",
    "#Индикатора Nan, None\n",
    "#None - Объект(накладные расходы) не работает с сумированниме min и.т.д\n",
    "\n",
    "#vall = np.array([1, None, 3])\n",
    "vall = np.array([1, np.nan, 3])\n",
    "print(np.sum(vall))\n",
    "print(np.nansum(vall))"
   ],
   "metadata": {
    "collapsed": false,
    "ExecuteTime": {
     "end_time": "2025-01-27T18:58:03.886487700Z",
     "start_time": "2025-01-27T18:58:03.870331200Z"
    }
   }
  },
  {
   "cell_type": "code",
   "execution_count": 79,
   "outputs": [
    {
     "name": "stdout",
     "output_type": "stream",
     "text": [
      "0    NaN\n",
      "1    NaN\n",
      "2    2.0\n",
      "3    3.0\n",
      "4    4.0\n",
      "dtype: float64\n",
      "0    None\n",
      "1     NaN\n",
      "2       c\n",
      "3       d\n",
      "dtype: object\n",
      "0       1\n",
      "1       2\n",
      "2       3\n",
      "3     NaN\n",
      "4    None\n",
      "5    <NA>\n",
      "dtype: object\n",
      "0       1\n",
      "1       2\n",
      "2       3\n",
      "3    <NA>\n",
      "4    <NA>\n",
      "5    <NA>\n",
      "dtype: Int32\n",
      "0    False\n",
      "1    False\n",
      "2    False\n",
      "3     True\n",
      "4     True\n",
      "5     True\n",
      "dtype: bool\n",
      "3    <NA>\n",
      "4    <NA>\n",
      "5    <NA>\n",
      "dtype: Int32\n",
      "0    1\n",
      "1    2\n",
      "2    3\n",
      "dtype: Int32\n",
      "   0    1  2    3    4     5\n",
      "0  1  2.0  3  NaN  NaN  <NA>\n",
      "1  1  2.0  3  4.0  5.0     6\n",
      "2  1  NaN  3  4.0  NaN     6 \n",
      "\n",
      "   0    1  2    3    4  5\n",
      "1  1  2.0  3  4.0  5.0  6 \n",
      "\n",
      "   0  2\n",
      "0  1  3\n",
      "1  1  3\n",
      "2  1  3 \n",
      "\n",
      "   0    1  2    3    4     5\n",
      "0  1  2.0  3  NaN  NaN  <NA>\n",
      "1  1  2.0  3  4.0  5.0     6\n",
      "2  1  NaN  3  4.0  NaN     6 \n",
      "\n",
      "   0  2\n",
      "0  1  3\n",
      "1  1  3\n",
      "2  1  3\n",
      "   0    1  2    3     5\n",
      "0  1  2.0  3  NaN  <NA>\n",
      "1  1  2.0  3  4.0     6\n",
      "2  1  NaN  3  4.0     6\n"
     ]
    }
   ],
   "source": [
    "x = pd.Series(range(5), dtype=int)\n",
    "x[0] = None\n",
    "x[1] = np.nan\n",
    "print(x) # Одинаково отображаются\n",
    "\n",
    "x1 = pd.Series(['a', 'b', 'c', 'd'])\n",
    "x1[0] = None\n",
    "x1[1] = np.nan\n",
    "print(x1) # Отображаются по-разному\n",
    "\n",
    "x2 = pd.Series([1, 2, 3, np.nan, None, pd.NA])\n",
    "print(x2)\n",
    "\n",
    "x3 = pd.Series([1, 2, 3, np.nan, None, pd.NA], dtype='Int32')\n",
    "print(x3)\n",
    "print(x3.isnull())\n",
    "print(x3[x3.isnull()])\n",
    "\n",
    "print(x3.dropna())\n",
    "\n",
    "df = pd.DataFrame([\n",
    "    [1, 2, 3, np.nan, None, pd.NA],\n",
    "    [1, 2, 3, 4, 5, 6],\n",
    "    [1, np.nan, 3, 4, np.nan, 6]\n",
    "])\n",
    "\n",
    "print(df, '\\n')\n",
    "print(df.dropna(), '\\n') #axis = 0 default\n",
    "print(df.dropna(axis=1), '\\n')\n",
    "\n",
    "#how\n",
    "# - all - all NaN Values\n",
    "# - any - хотя бы одно значение\n",
    "# thresh = x - есть МИНИМУМ x НЕПУСТЫХ значений\n",
    "print(df.dropna(axis=1, how='all'), '\\n')\n",
    "print(df.dropna(axis=1, how='any'))\n",
    "print(df.dropna(axis=1, thresh=2))"
   ],
   "metadata": {
    "collapsed": false,
    "ExecuteTime": {
     "end_time": "2025-01-27T19:34:22.870863400Z",
     "start_time": "2025-01-27T19:34:22.848335100Z"
    }
   }
  },
  {
   "cell_type": "code",
   "execution_count": null,
   "outputs": [],
   "source": [],
   "metadata": {
    "collapsed": false
   }
  }
 ],
 "metadata": {
  "kernelspec": {
   "display_name": "Python 3",
   "language": "python",
   "name": "python3"
  },
  "language_info": {
   "codemirror_mode": {
    "name": "ipython",
    "version": 2
   },
   "file_extension": ".py",
   "mimetype": "text/x-python",
   "name": "python",
   "nbconvert_exporter": "python",
   "pygments_lexer": "ipython2",
   "version": "2.7.6"
  }
 },
 "nbformat": 4,
 "nbformat_minor": 0
}
