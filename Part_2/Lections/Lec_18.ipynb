{
 "cells": [
  {
   "cell_type": "markdown",
   "source": [
    "## Обнаружение аномалий в данных\n",
    "- Уменьшение размернотси данных\n",
    "- Восстановим размерность данных\n",
    "-"
   ],
   "metadata": {
    "collapsed": false,
    "pycharm": {
     "name": "#%% md\n"
    }
   }
  },
  {
   "cell_type": "code",
   "execution_count": null,
   "outputs": [],
   "source": [
    "import pandas as pd\n",
    "import torch\n",
    "from sklearn.decomposition import PCA\n",
    "import numpy as np\n",
    "import matplotlib.pyplot as plt"
   ],
   "metadata": {
    "collapsed": false,
    "pycharm": {
     "name": "#%%\n"
    }
   }
  },
  {
   "cell_type": "code",
   "execution_count": null,
   "outputs": [],
   "source": [
    "df = pd.read_csv('creditcard.csv')\n",
    "\n",
    "legit = df[df['Class']==0]\n",
    "legit = legit.drop(['Class', 'Time'], axis=1)\n",
    "fraud = df[df['Class']==1]\n",
    "fraud = fraud.drop(['Class', 'Time'], axis = 1)\n"
   ],
   "metadata": {
    "collapsed": false,
    "pycharm": {
     "name": "#%%\n"
    }
   }
  },
  {
   "cell_type": "code",
   "execution_count": null,
   "outputs": [],
   "source": [
    "pca = PCA(n_components=26, random_state=0)\n",
    "legit_pca = pd.DataFrame(pca.fit_transform(legit), index=legit.index)\n",
    "\n",
    "fraud_pca = pd.DataFrame(pca.transform(fraud), index=fraud.index)\n",
    "\n",
    "print(legit_pca.shape)\n",
    "print(fraud_pca.shape)"
   ],
   "metadata": {
    "collapsed": false,
    "pycharm": {
     "name": "#%%\n"
    }
   }
  },
  {
   "cell_type": "code",
   "execution_count": null,
   "outputs": [],
   "source": [
    "legit_restore = pd.DataFrame(pca.inverse_transform(legit_pca), index=legit.index)\n",
    "fraud_restore = pd.DataFrame(pca.inverse_transform(fraud_pca), index=fraud.index)\n",
    "\n",
    "print(legit_restore.shape)\n",
    "print(fraud_restore.shape)"
   ],
   "metadata": {
    "collapsed": false,
    "pycharm": {
     "name": "#%%\n"
    }
   }
  },
  {
   "cell_type": "code",
   "execution_count": null,
   "outputs": [],
   "source": [
    "#Вычислим разницу между данными\n",
    "\n",
    "def anomaly_calc(original, restored):\n",
    "    loss = np.sum((np.array(original) - np.array(restored))**2, axis=1)\n",
    "    return pd.Series(data=loss, index=original.index)\n",
    "\n",
    "legit_calc = anomaly_calc(legit, legit_restore)\n",
    "fraud_calc = anomaly_calc(fraud, fraud_restore)\n",
    "\n",
    "fig, ax = plt.subplots(1, 2, sharex='col', sharey='row')\n",
    "\n",
    "ax[0].plot(legit_calc)\n",
    "ax[1].plot(fraud_calc)\n",
    "plt.show()\n",
    "\n",
    "th = 200\n",
    "\n",
    "legit_TRUE = legit_calc[legit_calc < th].count()\n",
    "legit_FALSE = legit_calc[legit_calc >= th].count()\n",
    "\n",
    "fraud_TRUE = fraud_calc[fraud_calc >= th].count()\n",
    "fraud_FALSE = fraud_calc[fraud_calc < th].count()\n",
    "\n",
    "print(legit_TRUE, legit_FALSE, fraud_TRUE, fraud_FALSE)"
   ],
   "metadata": {
    "collapsed": false,
    "pycharm": {
     "name": "#%%\n"
    }
   }
  },
  {
   "cell_type": "code",
   "execution_count": null,
   "outputs": [],
   "source": [],
   "metadata": {
    "collapsed": false,
    "pycharm": {
     "name": "#%%\n"
    }
   }
  },
  {
   "cell_type": "markdown",
   "source": [
    "## NLP\n",
    "Предсказываем следующее слово на основе предыдущего\n",
    "Метки получаются автоматически из языка"
   ],
   "metadata": {
    "collapsed": false,
    "pycharm": {
     "name": "#%% md\n"
    }
   }
  },
  {
   "cell_type": "code",
   "execution_count": null,
   "outputs": [],
   "source": [
    "from fastai.text.all import *\n",
    "\n",
    "path = untar_data(URLs.HUMAN_NUMBERS)\n",
    "\n",
    "print(path.ls())\n",
    "\n",
    "lines = L()\n",
    "with open('data.txt') as f:\n",
    "    lines += L(*f.readlines())\n",
    "\n",
    "\n",
    "text = ' '.join([l.strip() for l in lines])\n",
    "tokens = text.split(' ')\n",
    "vocab = L(*tokens).unique()\n",
    "word2index = {w:i for i, w in enumerate(vocab)}\n",
    "nums = L(word2index[i] for i in tokens)\n",
    "\n",
    "# 1. Список последовательностей из трех слов\n",
    "seq = L((tokens[i:i+3], tokens[i+3]) for i in range(0, len(tokens) - 4, 3))\n",
    "print(seq[:10])\n",
    "\n",
    "seq = L((nums[i:i+3], nums[i+3]) for i in range(0, len(nums) - 4, 3))\n",
    "print(seq[:10])\n",
    "\n",
    "seq = L((tensor(nums[i:i+3]), nums[i+3]) for i in range(0, len(nums) - 4, 3))\n",
    "print(seq[:10])\n",
    "\n",
    "bs = 64\n",
    "cut = int(len(seq)*0.8)\n",
    "\n",
    "dls = DataLoaders.from_dsets(seq[:cut], seq[cut:], bs=bs, shuffle = False)"
   ],
   "metadata": {
    "collapsed": false,
    "pycharm": {
     "name": "#%%\n"
    }
   }
  },
  {
   "cell_type": "code",
   "execution_count": 12,
   "outputs": [
    {
     "data": {
      "text/plain": "<IPython.core.display.HTML object>",
      "text/html": "\n<style>\n    /* Turns off some styling */\n    progress {\n        /* gets rid of default border in Firefox and Opera. */\n        border: none;\n        /* Needs to be in here for Safari polyfill so background images work as expected. */\n        background-size: auto;\n    }\n    progress:not([value]), progress:not([value])::-webkit-progress-bar {\n        background: repeating-linear-gradient(45deg, #7e7e7e, #7e7e7e 10px, #5c5c5c 10px, #5c5c5c 20px);\n    }\n    .progress-bar-interrupted, .progress-bar-interrupted::-webkit-progress-bar {\n        background: #F44336;\n    }\n</style>\n"
     },
     "metadata": {},
     "output_type": "display_data"
    },
    {
     "data": {
      "text/plain": "<IPython.core.display.HTML object>",
      "text/html": "\n    <div>\n      <progress value='0' class='' max='4' style='width:300px; height:20px; vertical-align: middle;'></progress>\n      \n    </div>\n    \n"
     },
     "metadata": {},
     "output_type": "display_data"
    }
   ],
   "source": [
    "class Model1(Module):\n",
    "    def __init__(self, vocab_sz, n_hidden):\n",
    "        self.i_h = nn.Embedding(vocab_sz, n_hidden)\n",
    "        self.h_h = nn.Linear(n_hidden, n_hidden)\n",
    "        self.h_o = nn.Linear(n_hidden, vocab_sz)\n",
    "\n",
    "    def forward(self, x):\n",
    "        #h = F.relu(self.h_h(self.i_h(x[:,0])))\n",
    "        #h = h + self.i_h(x[:, 1])\n",
    "        #h = F.relu(self.h_h(h))\n",
    "        #h = h + self.i_h(x[:, 2])\n",
    "        #h = F.relu(self.h_h(h))\n",
    "\n",
    "        h = 0\n",
    "        for i in range(3):\n",
    "            h = h + self.i_h(x[:,i])\n",
    "            h = F.relu(self.h_h(h))\n",
    "        return  self.h_o(h)\n",
    "\n",
    "learn = Learner(dls, Model1(len(vocab), bs), loss_func=F.cross_entropy, metrics=accuracy)\n",
    "\n",
    "learn.fit_one_cycle(4, 0.001)"
   ],
   "metadata": {
    "collapsed": false,
    "pycharm": {
     "name": "#%%\n"
    }
   }
  },
  {
   "cell_type": "code",
   "execution_count": null,
   "outputs": [],
   "source": [
    "n = 0\n",
    "counts = torch.zeros(len(vocab))\n",
    "\n",
    "for x, y in dls.valid:\n",
    "    n += y.shape[0]\n",
    "    for i in range_of(vocab):\n",
    "        counts[i] += (y==1).long().sum()\n",
    "\n",
    "print(counts)\n",
    "\n",
    "index = torch.argmax(counts)\n",
    "\n",
    "print(index, vocab[index.item()], counts[index].item()/n)"
   ],
   "metadata": {
    "collapsed": false,
    "pycharm": {
     "name": "#%%\n"
    }
   }
  },
  {
   "cell_type": "code",
   "execution_count": null,
   "outputs": [],
   "source": [],
   "metadata": {
    "collapsed": false,
    "pycharm": {
     "name": "#%%\n"
    }
   }
  }
 ],
 "metadata": {
  "kernelspec": {
   "display_name": "Python 3",
   "language": "python",
   "name": "python3"
  },
  "language_info": {
   "codemirror_mode": {
    "name": "ipython",
    "version": 2
   },
   "file_extension": ".py",
   "mimetype": "text/x-python",
   "name": "python",
   "nbconvert_exporter": "python",
   "pygments_lexer": "ipython2",
   "version": "2.7.6"
  }
 },
 "nbformat": 4,
 "nbformat_minor": 0
}