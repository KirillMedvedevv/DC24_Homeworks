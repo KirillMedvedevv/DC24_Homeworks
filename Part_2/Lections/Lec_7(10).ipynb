{
 "cells": [
  {
   "cell_type": "code",
   "execution_count": null,
   "metadata": {
    "collapsed": true,
    "pycharm": {
     "name": "#%%\n"
    }
   },
   "outputs": [],
   "source": [
    "import numpy as np\n",
    "from sklearn.datasets import make_regression\n",
    "from sklearn.linear_model import LinearRegression\n",
    "import matplotlib.pyplot as plt\n",
    "from numpy.linalg import inv"
   ]
  },
  {
   "cell_type": "code",
   "execution_count": null,
   "outputs": [],
   "source": [
    "features, target = make_regression(n_samples=100, n_features=1, n_informative=1, n_targets=1, noise=15, random_state=1)\n",
    "\n",
    "print(features.shape)\n",
    "print(target.shape)\n",
    "\n",
    "model = LinearRegression().fit(features, target)\n",
    "\n",
    "plt.scatter(features, target)\n",
    "\n",
    "x = np.linspace(features.min(), features.max(), 100)\n",
    "plt.plot(x, model.predict(x[:, np.newaxis]))\n",
    "plt.show()"
   ],
   "metadata": {
    "collapsed": false,
    "pycharm": {
     "name": "#%%\n"
    }
   }
  },
  {
   "cell_type": "code",
   "execution_count": 47,
   "outputs": [
    {
     "name": "stdout",
     "output_type": "stream",
     "text": [
      "[2.25454545 1.4       ]\n",
      "2.254545454545459\n",
      "1.3999999999999713\n"
     ]
    }
   ],
   "source": [
    "data = np.array([\n",
    "    [1, 5],\n",
    "    [2, 7],\n",
    "    [3, 4],\n",
    "    [4, 12],\n",
    "    [5, 13],\n",
    "    [6, 15],\n",
    "    [7, 16],\n",
    "    [8, 20],\n",
    "    [9, 21],\n",
    "    [10, 25]\n",
    "])\n",
    "\n",
    "x = data[:,0]\n",
    "y = data[:,1]\n",
    "n = len(x)\n",
    "w_1 = (\n",
    "    n*sum(x[i]*y[i] for i in range(n)) - sum(x[i] for i in range(n))*sum(y[i] for i in range(n))\n",
    ")/(n*sum(x[i]**2 for i in range(n)) - sum(x[i] for i in range(n))**2)\n",
    "\n",
    "w_0 = (sum(y[i] for i in range(n)))/n - w_1*sum((x[i] for i in range(n)))/n\n",
    "\n",
    "#print(w_1, w_0)\n",
    "\n",
    "#plt.scatter(x, y)\n",
    "#plt.plot(x, w_1*x + w_0)\n",
    "\n",
    "#Метод обратных матриц\n",
    "x_1 = np.vstack([x, np.ones(n)]).T\n",
    "#print(x_1)\n",
    "w = inv(x_1.transpose() @ x_1) @ (x_1.transpose() @ y)\n",
    "#print(w)\n",
    "\n",
    "#Разложение матриц\n",
    "Q, R = np.linalg.qr(x_1)\n",
    "w = inv(R).dot(Q.transpose()).dot(y)\n",
    "print(w)\n",
    "\n",
    "#Градиентный спуск (Похож на метод ньютона)\n",
    "iter = 10000\n",
    "w1, w0 = 0, 0\n",
    "L=0.001\n",
    "for i in range(iter):\n",
    "    D_w0 = 2*sum(-y[i] + w0 + w1*x[i] for i in range(n))\n",
    "    D_w1 = 2*sum((x[i]*(-y[i] + w0 + w1*x[i]) for i in range(n)))\n",
    "    w1 -=L*D_w1\n",
    "    w0 -=L*D_w0\n",
    "print(w1)\n",
    "print(w0)"
   ],
   "metadata": {
    "collapsed": false,
    "pycharm": {
     "name": "#%%\n"
    }
   }
  },
  {
   "cell_type": "code",
   "execution_count": null,
   "outputs": [],
   "source": [],
   "metadata": {
    "collapsed": false,
    "pycharm": {
     "name": "#%%\n"
    }
   }
  }
 ],
 "metadata": {
  "kernelspec": {
   "display_name": "Python 3",
   "language": "python",
   "name": "python3"
  },
  "language_info": {
   "codemirror_mode": {
    "name": "ipython",
    "version": 2
   },
   "file_extension": ".py",
   "mimetype": "text/x-python",
   "name": "python",
   "nbconvert_exporter": "python",
   "pygments_lexer": "ipython2",
   "version": "2.7.6"
  }
 },
 "nbformat": 4,
 "nbformat_minor": 0
}